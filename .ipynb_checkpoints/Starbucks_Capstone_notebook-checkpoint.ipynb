{
 "cells": [
  {
   "cell_type": "markdown",
   "metadata": {},
   "source": [
    "# Starbucks Capstone Challenge\n",
    "\n",
    "### Introduction\n",
    "\n",
    "This data set contains simulated data that mimics customer behavior on the Starbucks rewards mobile app. Once every few days, Starbucks sends out an offer to users of the mobile app. An offer can be merely an advertisement for a drink or an actual offer such as a discount or BOGO (buy one get one free). Some users might not receive any offer during certain weeks. \n",
    "\n",
    "Not all users receive the same offer, and that is the challenge to solve with this data set.\n",
    "\n",
    "Your task is to combine transaction, demographic and offer data to determine which demographic groups respond best to which offer type. This data set is a simplified version of the real Starbucks app because the underlying simulator only has one product whereas Starbucks actually sells dozens of products.\n",
    "\n",
    "Every offer has a validity period before the offer expires. As an example, a BOGO offer might be valid for only 5 days. You'll see in the data set that informational offers have a validity period even though these ads are merely providing information about a product; for example, if an informational offer has 7 days of validity, you can assume the customer is feeling the influence of the offer for 7 days after receiving the advertisement.\n",
    "\n",
    "You'll be given transactional data showing user purchases made on the app including the timestamp of purchase and the amount of money spent on a purchase. This transactional data also has a record for each offer that a user receives as well as a record for when a user actually views the offer. There are also records for when a user completes an offer. \n",
    "\n",
    "Keep in mind as well that someone using the app might make a purchase through the app without having received an offer or seen an offer.\n",
    "\n",
    "### Example\n",
    "\n",
    "To give an example, a user could receive a discount offer buy 10 dollars get 2 off on Monday. The offer is valid for 10 days from receipt. If the customer accumulates at least 10 dollars in purchases during the validity period, the customer completes the offer.\n",
    "\n",
    "However, there are a few things to watch out for in this data set. Customers do not opt into the offers that they receive; in other words, a user can receive an offer, never actually view the offer, and still complete the offer. For example, a user might receive the \"buy 10 dollars get 2 dollars off offer\", but the user never opens the offer during the 10 day validity period. The customer spends 15 dollars during those ten days. There will be an offer completion record in the data set; however, the customer was not influenced by the offer because the customer never viewed the offer.\n",
    "\n",
    "### Cleaning\n",
    "\n",
    "This makes data cleaning especially important and tricky.\n",
    "\n",
    "You'll also want to take into account that some demographic groups will make purchases even if they don't receive an offer. From a business perspective, if a customer is going to make a 10 dollar purchase without an offer anyway, you wouldn't want to send a buy 10 dollars get 2 dollars off offer. You'll want to try to assess what a certain demographic group will buy when not receiving any offers.\n",
    "\n",
    "### Final Advice\n",
    "\n",
    "Because this is a capstone project, you are free to analyze the data any way you see fit. For example, you could build a machine learning model that predicts how much someone will spend based on demographics and offer type. Or you could build a model that predicts whether or not someone will respond to an offer. Or, you don't need to build a machine learning model at all. You could develop a set of heuristics that determine what offer you should send to each customer (i.e., 75 percent of women customers who were 35 years old responded to offer A vs 40 percent from the same demographic to offer B, so send offer A)."
   ]
  },
  {
   "cell_type": "markdown",
   "metadata": {},
   "source": [
    "# Data Sets\n",
    "\n",
    "The data is contained in three files:\n",
    "\n",
    "* portfolio.json - containing offer ids and meta data about each offer (duration, type, etc.)\n",
    "* profile.json - demographic data for each customer\n",
    "* transcript.json - records for transactions, offers received, offers viewed, and offers completed"
   ]
  },
  {
   "cell_type": "markdown",
   "metadata": {},
   "source": [
    "# Starbucks Capstone Challenge"
   ]
  },
  {
   "cell_type": "markdown",
   "metadata": {},
   "source": [
    "### 1. Import Libraries"
   ]
  },
  {
   "cell_type": "code",
   "execution_count": 17,
   "metadata": {},
   "outputs": [
    {
     "name": "stderr",
     "output_type": "stream",
     "text": [
      "UsageError: Line magic function `%` not found.\n"
     ]
    }
   ],
   "source": [
    "# Packages for data processing\n",
    "import pandas as pd\n",
    "import numpy as np\n",
    "import math\n",
    "import json\n",
    "import matplotlib.pyplot as plt\n",
    "import seaborn as sns\n",
    "% matplotlib inline\n",
    "\n",
    "# Packages for ML \n",
    "from sklearn.preprocessing import MinMaxScaler\n",
    "from sklearn.model_selection import train_test_split, GridSearchCV\n",
    "from sklearn.pipeline import Pipeline\n",
    "from sklearn.metrics import confusion_matrix\n",
    "from sklearn.metrics import classification_report\n",
    "from sklearn.ensemble import RandomForestClassifier\n",
    "from sklearn.feature_extraction.text import CountVectorizer, TfidfTransformer\n",
    "from sklearn.multioutput import MultiOutputClassifier\n",
    "from sklearn.decomposition import TruncatedSVD\n",
    "from sklearn.ensemble import AdaBoostClassifier\n",
    "from sklearn.metrics import classification_report\n",
    "from sklearn.svm import SVC\n",
    "from sklearn.naive_bayes import GaussianNB \n",
    "from sklearn.linear_model import LogisticRegression\n",
    "\n",
    "# Package for model storage\n",
    "import pickle"
   ]
  },
  {
   "cell_type": "markdown",
   "metadata": {},
   "source": [
    "### 2. Loading Data\n",
    "The data is contained in three files:\n",
    "\n",
    "portfolio.json - containing offer ids and meta data about each offer (duration, type, etc.)\n",
    "profile.json - demographic data for each customer\n",
    "transcript.json - records for transactions, offers received, offers viewed, and offers completed"
   ]
  },
  {
   "cell_type": "code",
   "execution_count": 18,
   "metadata": {},
   "outputs": [],
   "source": [
    "# read in the json files\n",
    "portfolio = pd.read_json('data/portfolio.json', orient='records', lines=True)\n",
    "profile = pd.read_json('data/profile.json', orient='records', lines=True)\n",
    "transcript = pd.read_json('data/transcript.json', orient='records', lines=True)"
   ]
  },
  {
   "cell_type": "markdown",
   "metadata": {},
   "source": [
    "### 3. Data Overview\n",
    "\n",
    "Here is the schema and explanation of each variable in the files:\n",
    "\n",
    "**portfolio.json**\n",
    "* id (string) - offer id\n",
    "* offer_type (string) - type of offer ie BOGO, discount, informational\n",
    "* difficulty (int) - minimum required spend to complete an offer\n",
    "* reward (int) - reward given for completing an offer\n",
    "* duration (int) - time for offer to be open, in days\n",
    "* channels (list of strings)\n",
    "\n",
    "**profile.json**\n",
    "* age (int) - age of the customer \n",
    "* became_member_on (int) - date when customer created an app account\n",
    "* gender (str) - gender of the customer (note some entries contain 'O' for other rather than M or F)\n",
    "* id (str) - customer id\n",
    "* income (float) - customer's income\n",
    "\n",
    "**transcript.json**\n",
    "* event (str) - record description (ie transaction, offer received, offer viewed, etc.)\n",
    "* person (str) - customer id\n",
    "* time (int) - time in hours since start of test. The data begins at time t=0\n",
    "* value - (dict of strings) - either an offer id or transaction amount depending on the record\n"
   ]
  },
  {
   "cell_type": "markdown",
   "metadata": {},
   "source": [
    "### 4. Data Cleaning\n",
    "#### Data cleaning for Portfolio\n",
    "* Seperate channel column to various sources\n",
    "* Change the column name for table merge"
   ]
  },
  {
   "cell_type": "code",
   "execution_count": 19,
   "metadata": {},
   "outputs": [
    {
     "data": {
      "text/html": [
       "<div>\n",
       "<style scoped>\n",
       "    .dataframe tbody tr th:only-of-type {\n",
       "        vertical-align: middle;\n",
       "    }\n",
       "\n",
       "    .dataframe tbody tr th {\n",
       "        vertical-align: top;\n",
       "    }\n",
       "\n",
       "    .dataframe thead th {\n",
       "        text-align: right;\n",
       "    }\n",
       "</style>\n",
       "<table border=\"1\" class=\"dataframe\">\n",
       "  <thead>\n",
       "    <tr style=\"text-align: right;\">\n",
       "      <th></th>\n",
       "      <th>reward</th>\n",
       "      <th>difficulty</th>\n",
       "      <th>duration</th>\n",
       "      <th>offer_type</th>\n",
       "      <th>offer_id</th>\n",
       "      <th>web</th>\n",
       "      <th>email</th>\n",
       "      <th>mobile</th>\n",
       "      <th>social</th>\n",
       "    </tr>\n",
       "  </thead>\n",
       "  <tbody>\n",
       "    <tr>\n",
       "      <th>0</th>\n",
       "      <td>10</td>\n",
       "      <td>10</td>\n",
       "      <td>7</td>\n",
       "      <td>1</td>\n",
       "      <td>ae264e3637204a6fb9bb56bc8210ddfd</td>\n",
       "      <td>0</td>\n",
       "      <td>1</td>\n",
       "      <td>1</td>\n",
       "      <td>1</td>\n",
       "    </tr>\n",
       "    <tr>\n",
       "      <th>1</th>\n",
       "      <td>10</td>\n",
       "      <td>10</td>\n",
       "      <td>5</td>\n",
       "      <td>1</td>\n",
       "      <td>4d5c57ea9a6940dd891ad53e9dbe8da0</td>\n",
       "      <td>1</td>\n",
       "      <td>1</td>\n",
       "      <td>1</td>\n",
       "      <td>1</td>\n",
       "    </tr>\n",
       "    <tr>\n",
       "      <th>2</th>\n",
       "      <td>0</td>\n",
       "      <td>0</td>\n",
       "      <td>4</td>\n",
       "      <td>2</td>\n",
       "      <td>3f207df678b143eea3cee63160fa8bed</td>\n",
       "      <td>1</td>\n",
       "      <td>1</td>\n",
       "      <td>1</td>\n",
       "      <td>0</td>\n",
       "    </tr>\n",
       "    <tr>\n",
       "      <th>3</th>\n",
       "      <td>5</td>\n",
       "      <td>5</td>\n",
       "      <td>7</td>\n",
       "      <td>1</td>\n",
       "      <td>9b98b8c7a33c4b65b9aebfe6a799e6d9</td>\n",
       "      <td>1</td>\n",
       "      <td>1</td>\n",
       "      <td>1</td>\n",
       "      <td>0</td>\n",
       "    </tr>\n",
       "    <tr>\n",
       "      <th>4</th>\n",
       "      <td>5</td>\n",
       "      <td>20</td>\n",
       "      <td>10</td>\n",
       "      <td>3</td>\n",
       "      <td>0b1e1539f2cc45b7b9fa7c272da2e1d7</td>\n",
       "      <td>1</td>\n",
       "      <td>1</td>\n",
       "      <td>0</td>\n",
       "      <td>0</td>\n",
       "    </tr>\n",
       "  </tbody>\n",
       "</table>\n",
       "</div>"
      ],
      "text/plain": [
       "   reward  difficulty  duration  offer_type                          offer_id  \\\n",
       "0      10          10         7           1  ae264e3637204a6fb9bb56bc8210ddfd   \n",
       "1      10          10         5           1  4d5c57ea9a6940dd891ad53e9dbe8da0   \n",
       "2       0           0         4           2  3f207df678b143eea3cee63160fa8bed   \n",
       "3       5           5         7           1  9b98b8c7a33c4b65b9aebfe6a799e6d9   \n",
       "4       5          20        10           3  0b1e1539f2cc45b7b9fa7c272da2e1d7   \n",
       "\n",
       "   web  email  mobile  social  \n",
       "0    0      1       1       1  \n",
       "1    1      1       1       1  \n",
       "2    1      1       1       0  \n",
       "3    1      1       1       0  \n",
       "4    1      1       0       0  "
      ]
     },
     "execution_count": 19,
     "metadata": {},
     "output_type": "execute_result"
    }
   ],
   "source": [
    "# One time code \n",
    "channels_type = ['web', 'email', 'mobile', 'social']\n",
    "for i in channels_type:\n",
    "    portfolio[i] = portfolio.channels.apply(lambda x: i in x).map({True:1, False: 0})\n",
    "# Remove the redundent columns (channels and id)\n",
    "portfolio = portfolio.drop(['channels'],axis =1)\n",
    "portfolio.rename(columns={'id':'offer_id'},inplace=True) \n",
    "portfolio.offer_type.replace(to_replace = {'bogo':1,'informational':2,'discount':3},inplace = True)\n",
    "portfolio.head()"
   ]
  },
  {
   "cell_type": "markdown",
   "metadata": {},
   "source": [
    "#### Data cleaning for Profile\n",
    "* Check for empty cells in the data set\n",
    "* Fill in the blank cell in Gender columns with str_'Unknown'\n",
    "* Fill in the income value with mean of the data_set"
   ]
  },
  {
   "cell_type": "code",
   "execution_count": 20,
   "metadata": {
    "scrolled": true
   },
   "outputs": [],
   "source": [
    "# One time code\n",
    "profile['gender'].fillna('Unknown', inplace = True)\n",
    "profile['income'].fillna('Unknown', inplace = True)\n",
    "profile.replace(to_replace = {'Unknown':0,'M':1,'F':2,'O':3},inplace = True)"
   ]
  },
  {
   "cell_type": "markdown",
   "metadata": {},
   "source": [
    "#### Data cleaning for Transcript\n",
    "* Check for empty cells in the data set\n",
    "* unpack the jason file with the following items:\n",
    "    value_list = ['offer id','amount','offer_id','reword'](offer id and offer_id should be treated as equal)\n",
    "* Create empty columns to extract date from 'value' column\n",
    "* Fill in the empty cells with data using match data type"
   ]
  },
  {
   "cell_type": "code",
   "execution_count": 21,
   "metadata": {},
   "outputs": [],
   "source": [
    "# The transcript file have no missing elements\n",
    "value_list = ['offer id','amount','offer_id','reword']\n",
    "value_list = ['offer id','amount','offer_id','reword']\n",
    "transcript['amount'] = float(0)\n",
    "transcript['reward'] = float(0)\n",
    "transcript['offer id'] = ''\n",
    "# Fill in the empty cells with data using match data type   \n",
    "for i, j in transcript.iterrows():\n",
    "    for item in j['value']:\n",
    "        if item == 'amount':\n",
    "            transcript.at[i, 'amount'] = float(j['value'][item])\n",
    "        if item == 'reward':\n",
    "            transcript.at[i, 'reward'] = float(j['value'][item])\n",
    "        if item == 'offer_id' or item == 'offer id':\n",
    "            transcript.at[i,'offer id']= j['value'][item]         \n",
    "# Drop the 'value' column\n",
    "transcript.drop('value',axis = 1,inplace = True)\n",
    "#Map event column transaction:0,offer received to 1,offer viewed:2,offer completed:3\n",
    "transcript.event.replace(to_replace = {'transaction':0,'offer received':1,'offer viewed':2,'offer completed':3},inplace = True)"
   ]
  },
  {
   "cell_type": "code",
   "execution_count": 22,
   "metadata": {},
   "outputs": [
    {
     "data": {
      "text/html": [
       "<div>\n",
       "<style scoped>\n",
       "    .dataframe tbody tr th:only-of-type {\n",
       "        vertical-align: middle;\n",
       "    }\n",
       "\n",
       "    .dataframe tbody tr th {\n",
       "        vertical-align: top;\n",
       "    }\n",
       "\n",
       "    .dataframe thead th {\n",
       "        text-align: right;\n",
       "    }\n",
       "</style>\n",
       "<table border=\"1\" class=\"dataframe\">\n",
       "  <thead>\n",
       "    <tr style=\"text-align: right;\">\n",
       "      <th></th>\n",
       "      <th>person</th>\n",
       "      <th>event</th>\n",
       "      <th>time</th>\n",
       "      <th>amount</th>\n",
       "      <th>reward</th>\n",
       "      <th>offer id</th>\n",
       "    </tr>\n",
       "  </thead>\n",
       "  <tbody>\n",
       "    <tr>\n",
       "      <th>0</th>\n",
       "      <td>78afa995795e4d85b5d9ceeca43f5fef</td>\n",
       "      <td>1</td>\n",
       "      <td>0</td>\n",
       "      <td>0.0</td>\n",
       "      <td>0.0</td>\n",
       "      <td>9b98b8c7a33c4b65b9aebfe6a799e6d9</td>\n",
       "    </tr>\n",
       "    <tr>\n",
       "      <th>1</th>\n",
       "      <td>a03223e636434f42ac4c3df47e8bac43</td>\n",
       "      <td>1</td>\n",
       "      <td>0</td>\n",
       "      <td>0.0</td>\n",
       "      <td>0.0</td>\n",
       "      <td>0b1e1539f2cc45b7b9fa7c272da2e1d7</td>\n",
       "    </tr>\n",
       "    <tr>\n",
       "      <th>2</th>\n",
       "      <td>e2127556f4f64592b11af22de27a7932</td>\n",
       "      <td>1</td>\n",
       "      <td>0</td>\n",
       "      <td>0.0</td>\n",
       "      <td>0.0</td>\n",
       "      <td>2906b810c7d4411798c6938adc9daaa5</td>\n",
       "    </tr>\n",
       "    <tr>\n",
       "      <th>3</th>\n",
       "      <td>8ec6ce2a7e7949b1bf142def7d0e0586</td>\n",
       "      <td>1</td>\n",
       "      <td>0</td>\n",
       "      <td>0.0</td>\n",
       "      <td>0.0</td>\n",
       "      <td>fafdcd668e3743c1bb461111dcafc2a4</td>\n",
       "    </tr>\n",
       "    <tr>\n",
       "      <th>4</th>\n",
       "      <td>68617ca6246f4fbc85e91a2a49552598</td>\n",
       "      <td>1</td>\n",
       "      <td>0</td>\n",
       "      <td>0.0</td>\n",
       "      <td>0.0</td>\n",
       "      <td>4d5c57ea9a6940dd891ad53e9dbe8da0</td>\n",
       "    </tr>\n",
       "  </tbody>\n",
       "</table>\n",
       "</div>"
      ],
      "text/plain": [
       "                             person  event  time  amount  reward  \\\n",
       "0  78afa995795e4d85b5d9ceeca43f5fef      1     0     0.0     0.0   \n",
       "1  a03223e636434f42ac4c3df47e8bac43      1     0     0.0     0.0   \n",
       "2  e2127556f4f64592b11af22de27a7932      1     0     0.0     0.0   \n",
       "3  8ec6ce2a7e7949b1bf142def7d0e0586      1     0     0.0     0.0   \n",
       "4  68617ca6246f4fbc85e91a2a49552598      1     0     0.0     0.0   \n",
       "\n",
       "                           offer id  \n",
       "0  9b98b8c7a33c4b65b9aebfe6a799e6d9  \n",
       "1  0b1e1539f2cc45b7b9fa7c272da2e1d7  \n",
       "2  2906b810c7d4411798c6938adc9daaa5  \n",
       "3  fafdcd668e3743c1bb461111dcafc2a4  \n",
       "4  4d5c57ea9a6940dd891ad53e9dbe8da0  "
      ]
     },
     "execution_count": 22,
     "metadata": {},
     "output_type": "execute_result"
    }
   ],
   "source": [
    "study_tran = transcript.copy()\n",
    "study_tran.head()"
   ]
  },
  {
   "cell_type": "markdown",
   "metadata": {},
   "source": [
    "#### Merge data sets\n",
    "* Rename correponding columns\n",
    "* Combine three data sets into one dataframe\n",
    "* Drop the redundent columns"
   ]
  },
  {
   "cell_type": "code",
   "execution_count": 23,
   "metadata": {},
   "outputs": [],
   "source": [
    "# Before training model we merge the useful data into one dataframe\n",
    "study_tran.rename(columns={'person':'user_id', 'offer id':'offer_id','reward':'user_reward'},\n",
    "                  inplace=True) \n",
    "profile.rename(columns={'id':'user_id'},inplace=True) # one-time code\n",
    "part=pd.merge(study_tran,profile,how='left',on=['user_id']) \n",
    "study=pd.merge(part,portfolio,how='left',on=['offer_id'])\n",
    "study.fillna(0,inplace = True)\n",
    "study.drop(['became_member_on','user_id','offer_id'],axis = 1,inplace = True)"
   ]
  },
  {
   "cell_type": "code",
   "execution_count": 33,
   "metadata": {},
   "outputs": [
    {
     "name": "stdout",
     "output_type": "stream",
     "text": [
      "               event           time         amount    user_reward  \\\n",
      "count  306534.000000  306534.000000  306534.000000  306534.000000   \n",
      "mean        0.954100     366.382940       5.792023       0.537219   \n",
      "std         1.038119     200.326314      21.337137       1.805208   \n",
      "min         0.000000       0.000000       0.000000       0.000000   \n",
      "25%         0.000000     186.000000       0.000000       0.000000   \n",
      "50%         1.000000     408.000000       0.000000       0.000000   \n",
      "75%         2.000000     528.000000       7.100000       0.000000   \n",
      "max         3.000000     714.000000    1062.280000      10.000000   \n",
      "\n",
      "              gender            age         income         reward  \\\n",
      "count  306534.000000  306534.000000  306534.000000  306534.000000   \n",
      "mean        1.284703      60.909367   57248.752178       2.416349   \n",
      "std         0.670750      26.032030   28414.272438       3.326028   \n",
      "min         0.000000      18.000000       0.000000       0.000000   \n",
      "25%         1.000000      43.000000   41000.000000       0.000000   \n",
      "50%         1.000000      57.000000   59000.000000       0.000000   \n",
      "75%         2.000000      72.000000   75000.000000       5.000000   \n",
      "max         3.000000     118.000000  120000.000000      10.000000   \n",
      "\n",
      "          difficulty       duration     offer_type            web  \\\n",
      "count  306534.000000  306534.000000  306534.000000  306534.000000   \n",
      "mean        4.291785       3.614066       1.087785       0.441106   \n",
      "std         5.404546       3.650315       1.201143       0.496520   \n",
      "min         0.000000       0.000000       0.000000       0.000000   \n",
      "25%         0.000000       0.000000       0.000000       0.000000   \n",
      "50%         0.000000       4.000000       1.000000       0.000000   \n",
      "75%        10.000000       7.000000       2.000000       1.000000   \n",
      "max        20.000000      10.000000       3.000000       1.000000   \n",
      "\n",
      "               email         mobile         social  \n",
      "count  306534.000000  306534.000000  306534.000000  \n",
      "mean        0.546696       0.501837       0.359177  \n",
      "std         0.497815       0.499997       0.479760  \n",
      "min         0.000000       0.000000       0.000000  \n",
      "25%         0.000000       0.000000       0.000000  \n",
      "50%         1.000000       1.000000       0.000000  \n",
      "75%         1.000000       1.000000       1.000000  \n",
      "max         1.000000       1.000000       1.000000  \n",
      "[[<matplotlib.axes._subplots.AxesSubplot object at 0x10a31bcd0>\n",
      "  <matplotlib.axes._subplots.AxesSubplot object at 0x1a205bc790>\n",
      "  <matplotlib.axes._subplots.AxesSubplot object at 0x1a2154a450>\n",
      "  <matplotlib.axes._subplots.AxesSubplot object at 0x1a21730b90>]\n",
      " [<matplotlib.axes._subplots.AxesSubplot object at 0x1a2191bd10>\n",
      "  <matplotlib.axes._subplots.AxesSubplot object at 0x1a2171fc90>\n",
      "  <matplotlib.axes._subplots.AxesSubplot object at 0x1a21721410>\n",
      "  <matplotlib.axes._subplots.AxesSubplot object at 0x1a213c3c50>]\n",
      " [<matplotlib.axes._subplots.AxesSubplot object at 0x1a21276190>\n",
      "  <matplotlib.axes._subplots.AxesSubplot object at 0x1a2053ffd0>\n",
      "  <matplotlib.axes._subplots.AxesSubplot object at 0x1a213073d0>\n",
      "  <matplotlib.axes._subplots.AxesSubplot object at 0x1a2175be90>]\n",
      " [<matplotlib.axes._subplots.AxesSubplot object at 0x1a21908d50>\n",
      "  <matplotlib.axes._subplots.AxesSubplot object at 0x1a21298650>\n",
      "  <matplotlib.axes._subplots.AxesSubplot object at 0x1a21243a10>\n",
      "  <matplotlib.axes._subplots.AxesSubplot object at 0x1a212dec10>]]\n"
     ]
    },
    {
     "data": {
      "image/png": "[encoded data removed]",
      "text/plain": [
       "<Figure size 1440x720 with 16 Axes>"
      ]
     },
     "metadata": {
      "needs_background": "light"
     },
     "output_type": "display_data"
    }
   ],
   "source": [
    "# Provide overview of the data set\n",
    "plt.rcParams[\"figure.figsize\"] = (20,10)\n",
    "print(study.describe())\n",
    "print(study.hist())"
   ]
  },
  {
   "cell_type": "markdown",
   "metadata": {},
   "source": [
    "#### Remove unreasonable items\n",
    "   * For User age, the items which labels as 118 is not reasonable will remove them from the data set"
   ]
  },
  {
   "cell_type": "code",
   "execution_count": 19,
   "metadata": {},
   "outputs": [],
   "source": [
    "index_remove = study[study['age'] == 118].index\n",
    "study.drop(index_remove, inplace=True)"
   ]
  },
  {
   "cell_type": "markdown",
   "metadata": {},
   "source": [
    "### 5. Data Analysis"
   ]
  },
  {
   "cell_type": "markdown",
   "metadata": {},
   "source": [
    "#### Reserch into user age\n",
    "* Mean and distribution of user age\n",
    "\n",
    "* User age distribution with different gender\n",
    "\n",
    "* User distribution with various age group"
   ]
  },
  {
   "cell_type": "code",
   "execution_count": 20,
   "metadata": {},
   "outputs": [
    {
     "data": {
      "text/plain": [
       "53.840696284673086"
      ]
     },
     "execution_count": 20,
     "metadata": {},
     "output_type": "execute_result"
    }
   ],
   "source": [
    "#Mean of the users \n",
    "study.age.mean()"
   ]
  },
  {
   "cell_type": "code",
   "execution_count": 32,
   "metadata": {},
   "outputs": [
    {
     "data": {
      "image/png": "[encoded data removed]",
      "text/plain": [
       "<Figure size 432x288 with 1 Axes>"
      ]
     },
     "metadata": {},
     "output_type": "display_data"
    }
   ],
   "source": [
    "'''\n",
    "Distribution of user age\n",
    "Calculate and plot the distribution of user ages\n",
    "Provide insight for further model construction\n",
    "'''\n",
    "x1 = study.age\n",
    "# Plot the Age distribution of the starbuck user\n",
    "current_palette = sns.color_palette()\n",
    "sns.set(font_scale=1.5)\n",
    "sns.set_style('white')\n",
    "sns.distplot(x1,color=current_palette[1])\n",
    "plt.xlabel('Age')\n",
    "plt.xlim(10, 100)\n",
    "plt.ylabel('P(Age)')\n",
    "plt.title('Age distribution')\n",
    "plt.tight_layout()"
   ]
  },
  {
   "cell_type": "code",
   "execution_count": 25,
   "metadata": {},
   "outputs": [
    {
     "data": {
      "image/png": "[encoded data removed]",
      "text/plain": [
       "<Figure size 720x288 with 2 Axes>"
      ]
     },
     "metadata": {},
     "output_type": "display_data"
    }
   ],
   "source": [
    "'''\n",
    "Age distribution with different gender\n",
    "Logistic of data cleaning:\n",
    "    1. Seperate the data set into different genders\n",
    "    2. Count for the user ages\n",
    "    3. Plot histgram\n",
    "''' \n",
    "x1 = study[study['gender'] == 1].age\n",
    "x2 = study[study['gender'] == 2].age\n",
    "\n",
    "#Plot the user data in a histgram\n",
    "current_palette = sns.color_palette()\n",
    "sns.set(font_scale=1.5)\n",
    "sns.set_style('white')\n",
    "fig, ax = plt.subplots(figsize=(10, 4),\n",
    "                       nrows=1,\n",
    "                       ncols=2,\n",
    "                       sharex=True,\n",
    "                       sharey=True)\n",
    "\n",
    "plt.sca(ax[0])\n",
    "sns.distplot(x1,\n",
    "             color=current_palette[0])\n",
    "plt.xlabel('Age')\n",
    "plt.ylabel('P(Age)')\n",
    "plt.title('Male user')\n",
    "\n",
    "plt.sca(ax[1])\n",
    "sns.distplot(x2,\n",
    "             color=current_palette[3])\n",
    "plt.xlabel('Age')\n",
    "plt.ylabel('P(Age)')\n",
    "plt.title('Female user')\n",
    "plt.tight_layout()"
   ]
  },
  {
   "cell_type": "code",
   "execution_count": 29,
   "metadata": {},
   "outputs": [],
   "source": [
    "# Age distribution of users in various age group\n",
    "Age_basket = ['Young adults','Adults','Middle age','Elder adults','Elderly']\n",
    "def age_basket (age_list):\n",
    "    '''\n",
    "    Allocate users into various age groups\n",
    "    'Young adults'(<25),'Adults'(25,35),'Middle age'(35,45),'Elder adults'(45,55),'Elderly'(>55)\n",
    "    INPUT: List of user age (list[int])\n",
    "    OUTPUT: List of counts in the age basket (list[int])\n",
    "    '''\n",
    "    y = a = m = e = o = 0\n",
    "    for i in age_list:\n",
    "        if i < 25:\n",
    "            y += 1\n",
    "        if i >= 25 and i <35:\n",
    "            a += 1\n",
    "        if i >= 35 and i < 45:\n",
    "            m += 1\n",
    "        if i >= 45 and i< 55:\n",
    "            e += 1\n",
    "        if i >= 55:\n",
    "            o +=1\n",
    "    return [y,a,m,e,o]\n",
    "x1 = age_basket(list(study[study['gender'] == 1].age))\n",
    "x2 = age_basket(list(study[study['gender'] == 2].age))"
   ]
  },
  {
   "cell_type": "code",
   "execution_count": 30,
   "metadata": {},
   "outputs": [
    {
     "data": {
      "text/plain": [
       "<matplotlib.legend.Legend at 0x1a207c5c90>"
      ]
     },
     "execution_count": 30,
     "metadata": {},
     "output_type": "execute_result"
    },
    {
     "data": {
      "image/png": "[encoded data removed]",
      "text/plain": [
       "<Figure size 432x288 with 1 Axes>"
      ]
     },
     "metadata": {},
     "output_type": "display_data"
    }
   ],
   "source": [
    "ypos = np.arange(len(Age_basket))\n",
    "current_palette = sns.color_palette()\n",
    "plt.yticks(ypos,Age_basket)\n",
    "plt.barh(ypos-0.2,x1,label = 'Male',color = current_palette[0])\n",
    "plt.barh(ypos+0.2,x2,label = 'Female',color = current_palette[3])\n",
    "plt.legend()"
   ]
  },
  {
   "cell_type": "markdown",
   "metadata": {},
   "source": [
    "### Research into user salary\n",
    "* Mean of user salary\n",
    "* Salery distribution of the users with different gender"
   ]
  },
  {
   "cell_type": "code",
   "execution_count": 35,
   "metadata": {},
   "outputs": [
    {
     "data": {
      "text/plain": [
       "64337.00075523717"
      ]
     },
     "execution_count": 35,
     "metadata": {},
     "output_type": "execute_result"
    }
   ],
   "source": [
    "#Mean of user salary\n",
    "study[study['income']!=0].income.mean()"
   ]
  },
  {
   "cell_type": "code",
   "execution_count": 39,
   "metadata": {},
   "outputs": [
    {
     "data": {
      "image/png": "[encoded data removed]",
      "text/plain": [
       "<Figure size 1080x432 with 3 Axes>"
      ]
     },
     "metadata": {},
     "output_type": "display_data"
    }
   ],
   "source": [
    "# Salery distribution\n",
    "study_salary = study[study['income']!=0].copy()\n",
    "x1 = study_salary.income\n",
    "x2 = study_salary[study_salary['gender']==1].income\n",
    "x3 = study_salary[study_salary['gender']==2].income\n",
    "# Plot the Age distribution of the starbuck user\n",
    "\n",
    "current_palette = sns.color_palette()\n",
    "sns.set(font_scale=1.5)\n",
    "sns.set_style('white')\n",
    "fig, ax = plt.subplots(figsize=(15, 6),\n",
    "                       nrows=1,\n",
    "                       ncols=3,\n",
    "                       sharex=True,\n",
    "                       sharey=True)\n",
    "\n",
    "plt.sca(ax[0])\n",
    "sns.distplot(x1,\n",
    "             color=current_palette[1])\n",
    "plt.xlabel('Income')\n",
    "plt.ylabel('P(Income)')\n",
    "plt.title('All gender user')\n",
    "\n",
    "plt.sca(ax[1])\n",
    "sns.distplot(x2,\n",
    "             color=current_palette[0])\n",
    "plt.xlabel('Income')\n",
    "plt.ylabel('P(Income)')\n",
    "plt.title('Male user')\n",
    "\n",
    "plt.sca(ax[2])\n",
    "sns.distplot(x3,\n",
    "             color=current_palette[3])\n",
    "\n",
    "plt.xlabel('Income')\n",
    "plt.ylabel('P(Income)')\n",
    "plt.title('Female user')\n",
    "plt.tight_layout()"
   ]
  },
  {
   "cell_type": "markdown",
   "metadata": {},
   "source": [
    "### Research into promote method\n",
    "\n",
    "* Distribution of successful promote method\n",
    "\n",
    "* Distribution of promote type\n",
    "\n",
    "* Usage of the promote method\n",
    "\n",
    "* Accumulate usage of promote method with different gender"
   ]
  },
  {
   "cell_type": "code",
   "execution_count": 40,
   "metadata": {},
   "outputs": [
    {
     "data": {
      "image/png": "[encoded data removed]",
      "text/plain": [
       "<Figure size 432x288 with 1 Axes>"
      ]
     },
     "metadata": {},
     "output_type": "display_data"
    }
   ],
   "source": [
    "# calculate the number of promo code usage\n",
    "promo_id = list(transcript['offer id'].value_counts().index)\n",
    "promo_id.pop(0)\n",
    "promo_count = list(transcript['offer id'].value_counts())\n",
    "promo_count.pop(0)\n",
    "ypos = np.arange(len(promo_count))\n",
    "current_palette = sns.color_palette()\n",
    "plt.yticks(ypos,promo_id)\n",
    "plt.xlabel('Count')\n",
    "plt.ylabel('Promo ID')\n",
    "a = plt.barh(ypos,promo_count)\n",
    "for i in range(len(promo_id)-1):\n",
    "    a[i].set_color(current_palette[i])"
   ]
  },
  {
   "cell_type": "code",
   "execution_count": 43,
   "metadata": {},
   "outputs": [
    {
     "ename": "KeyError",
     "evalue": "'offer id'",
     "output_type": "error",
     "traceback": [
      "\u001b[0;31m---------------------------------------------------------------------------\u001b[0m",
      "\u001b[0;31mKeyError\u001b[0m                                  Traceback (most recent call last)",
      "\u001b[0;32m/opt/anaconda3/lib/python3.7/site-packages/pandas/core/indexes/base.py\u001b[0m in \u001b[0;36mget_loc\u001b[0;34m(self, key, method, tolerance)\u001b[0m\n\u001b[1;32m   2645\u001b[0m             \u001b[0;32mtry\u001b[0m\u001b[0;34m:\u001b[0m\u001b[0;34m\u001b[0m\u001b[0;34m\u001b[0m\u001b[0m\n\u001b[0;32m-> 2646\u001b[0;31m                 \u001b[0;32mreturn\u001b[0m \u001b[0mself\u001b[0m\u001b[0;34m.\u001b[0m\u001b[0m_engine\u001b[0m\u001b[0;34m.\u001b[0m\u001b[0mget_loc\u001b[0m\u001b[0;34m(\u001b[0m\u001b[0mkey\u001b[0m\u001b[0;34m)\u001b[0m\u001b[0;34m\u001b[0m\u001b[0;34m\u001b[0m\u001b[0m\n\u001b[0m\u001b[1;32m   2647\u001b[0m             \u001b[0;32mexcept\u001b[0m \u001b[0mKeyError\u001b[0m\u001b[0;34m:\u001b[0m\u001b[0;34m\u001b[0m\u001b[0;34m\u001b[0m\u001b[0m\n",
      "\u001b[0;32mpandas/_libs/index.pyx\u001b[0m in \u001b[0;36mpandas._libs.index.IndexEngine.get_loc\u001b[0;34m()\u001b[0m\n",
      "\u001b[0;32mpandas/_libs/index.pyx\u001b[0m in \u001b[0;36mpandas._libs.index.IndexEngine.get_loc\u001b[0;34m()\u001b[0m\n",
      "\u001b[0;32mpandas/_libs/hashtable_class_helper.pxi\u001b[0m in \u001b[0;36mpandas._libs.hashtable.PyObjectHashTable.get_item\u001b[0;34m()\u001b[0m\n",
      "\u001b[0;32mpandas/_libs/hashtable_class_helper.pxi\u001b[0m in \u001b[0;36mpandas._libs.hashtable.PyObjectHashTable.get_item\u001b[0;34m()\u001b[0m\n",
      "\u001b[0;31mKeyError\u001b[0m: 'offer id'",
      "\nDuring handling of the above exception, another exception occurred:\n",
      "\u001b[0;31mKeyError\u001b[0m                                  Traceback (most recent call last)",
      "\u001b[0;32m<ipython-input-43-3fd8cdd51373>\u001b[0m in \u001b[0;36m<module>\u001b[0;34m\u001b[0m\n\u001b[1;32m      1\u001b[0m \u001b[0;31m#Distribution of promote type\u001b[0m\u001b[0;34m\u001b[0m\u001b[0;34m\u001b[0m\u001b[0;34m\u001b[0m\u001b[0m\n\u001b[1;32m      2\u001b[0m \u001b[0mstudy_promotype\u001b[0m \u001b[0;34m=\u001b[0m \u001b[0mstudy_tran\u001b[0m\u001b[0;34m\u001b[0m\u001b[0;34m\u001b[0m\u001b[0m\n\u001b[0;32m----> 3\u001b[0;31m \u001b[0mstudy_promotype\u001b[0m\u001b[0;34m[\u001b[0m\u001b[0;34m'offer id'\u001b[0m\u001b[0;34m]\u001b[0m\u001b[0;34m.\u001b[0m\u001b[0mreplace\u001b[0m\u001b[0;34m(\u001b[0m\u001b[0mto_replace\u001b[0m \u001b[0;34m=\u001b[0m \u001b[0;34m{\u001b[0m\u001b[0;34m'ae264e3637204a6fb9bb56bc8210ddfd'\u001b[0m\u001b[0;34m:\u001b[0m\u001b[0;34m'bogo'\u001b[0m\u001b[0;34m,\u001b[0m\u001b[0;34m'4d5c57ea9a6940dd891ad53e9dbe8da0'\u001b[0m\u001b[0;34m:\u001b[0m\u001b[0;34m'bogo'\u001b[0m\u001b[0;34m,\u001b[0m\u001b[0;34m'9b98b8c7a33c4b65b9aebfe6a799e6d9'\u001b[0m\u001b[0;34m:\u001b[0m\u001b[0;34m'bogo'\u001b[0m\u001b[0;34m,\u001b[0m\u001b[0;34m'3f207df678b143eea3cee63160fa8bed'\u001b[0m\u001b[0;34m:\u001b[0m\u001b[0;34m'informational'\u001b[0m\u001b[0;34m,\u001b[0m\u001b[0;34m'0b1e1539f2cc45b7b9fa7c272da2e1d7'\u001b[0m\u001b[0;34m:\u001b[0m\u001b[0;34m'discount'\u001b[0m\u001b[0;34m,\u001b[0m\u001b[0;34m'2298d6c36e964ae4a3e7e9706d1fb8c2'\u001b[0m\u001b[0;34m:\u001b[0m\u001b[0;34m'discount'\u001b[0m\u001b[0;34m,\u001b[0m\u001b[0;34m'fafdcd668e3743c1bb461111dcafc2a4'\u001b[0m\u001b[0;34m:\u001b[0m\u001b[0;34m'discount'\u001b[0m\u001b[0;34m,\u001b[0m\u001b[0;34m'5a8bc65990b245e5a138643cd4eb9837'\u001b[0m\u001b[0;34m:\u001b[0m\u001b[0;34m'informational'\u001b[0m\u001b[0;34m,\u001b[0m\u001b[0;34m'f19421c1d4aa40978ebb69ca19b0e20d'\u001b[0m\u001b[0;34m:\u001b[0m\u001b[0;34m'bogo'\u001b[0m\u001b[0;34m,\u001b[0m\u001b[0;34m'2906b810c7d4411798c6938adc9daaa5'\u001b[0m\u001b[0;34m:\u001b[0m\u001b[0;34m'discount'\u001b[0m\u001b[0;34m,\u001b[0m\u001b[0;34m''\u001b[0m\u001b[0;34m:\u001b[0m\u001b[0;34m'none'\u001b[0m\u001b[0;34m}\u001b[0m\u001b[0;34m,\u001b[0m\u001b[0minplace\u001b[0m \u001b[0;34m=\u001b[0m \u001b[0;32mTrue\u001b[0m\u001b[0;34m)\u001b[0m\u001b[0;34m\u001b[0m\u001b[0;34m\u001b[0m\u001b[0m\n\u001b[0m\u001b[1;32m      4\u001b[0m \u001b[0mpromo_val\u001b[0m \u001b[0;34m=\u001b[0m \u001b[0mlist\u001b[0m\u001b[0;34m(\u001b[0m\u001b[0mstudy_promotype\u001b[0m\u001b[0;34m[\u001b[0m\u001b[0;34m'offer id'\u001b[0m\u001b[0;34m]\u001b[0m\u001b[0;34m.\u001b[0m\u001b[0mvalue_counts\u001b[0m\u001b[0;34m(\u001b[0m\u001b[0;34m)\u001b[0m\u001b[0;34m)\u001b[0m\u001b[0;34m\u001b[0m\u001b[0;34m\u001b[0m\u001b[0m\n\u001b[1;32m      5\u001b[0m \u001b[0mpromo_type\u001b[0m \u001b[0;34m=\u001b[0m \u001b[0mlist\u001b[0m\u001b[0;34m(\u001b[0m\u001b[0mstudy_promotype\u001b[0m\u001b[0;34m[\u001b[0m\u001b[0;34m'offer id'\u001b[0m\u001b[0;34m]\u001b[0m\u001b[0;34m.\u001b[0m\u001b[0mvalue_counts\u001b[0m\u001b[0;34m(\u001b[0m\u001b[0;34m)\u001b[0m\u001b[0;34m.\u001b[0m\u001b[0mindex\u001b[0m\u001b[0;34m)\u001b[0m\u001b[0;34m\u001b[0m\u001b[0;34m\u001b[0m\u001b[0m\n",
      "\u001b[0;32m/opt/anaconda3/lib/python3.7/site-packages/pandas/core/frame.py\u001b[0m in \u001b[0;36m__getitem__\u001b[0;34m(self, key)\u001b[0m\n\u001b[1;32m   2798\u001b[0m             \u001b[0;32mif\u001b[0m \u001b[0mself\u001b[0m\u001b[0;34m.\u001b[0m\u001b[0mcolumns\u001b[0m\u001b[0;34m.\u001b[0m\u001b[0mnlevels\u001b[0m \u001b[0;34m>\u001b[0m \u001b[0;36m1\u001b[0m\u001b[0;34m:\u001b[0m\u001b[0;34m\u001b[0m\u001b[0;34m\u001b[0m\u001b[0m\n\u001b[1;32m   2799\u001b[0m                 \u001b[0;32mreturn\u001b[0m \u001b[0mself\u001b[0m\u001b[0;34m.\u001b[0m\u001b[0m_getitem_multilevel\u001b[0m\u001b[0;34m(\u001b[0m\u001b[0mkey\u001b[0m\u001b[0;34m)\u001b[0m\u001b[0;34m\u001b[0m\u001b[0;34m\u001b[0m\u001b[0m\n\u001b[0;32m-> 2800\u001b[0;31m             \u001b[0mindexer\u001b[0m \u001b[0;34m=\u001b[0m \u001b[0mself\u001b[0m\u001b[0;34m.\u001b[0m\u001b[0mcolumns\u001b[0m\u001b[0;34m.\u001b[0m\u001b[0mget_loc\u001b[0m\u001b[0;34m(\u001b[0m\u001b[0mkey\u001b[0m\u001b[0;34m)\u001b[0m\u001b[0;34m\u001b[0m\u001b[0;34m\u001b[0m\u001b[0m\n\u001b[0m\u001b[1;32m   2801\u001b[0m             \u001b[0;32mif\u001b[0m \u001b[0mis_integer\u001b[0m\u001b[0;34m(\u001b[0m\u001b[0mindexer\u001b[0m\u001b[0;34m)\u001b[0m\u001b[0;34m:\u001b[0m\u001b[0;34m\u001b[0m\u001b[0;34m\u001b[0m\u001b[0m\n\u001b[1;32m   2802\u001b[0m                 \u001b[0mindexer\u001b[0m \u001b[0;34m=\u001b[0m \u001b[0;34m[\u001b[0m\u001b[0mindexer\u001b[0m\u001b[0;34m]\u001b[0m\u001b[0;34m\u001b[0m\u001b[0;34m\u001b[0m\u001b[0m\n",
      "\u001b[0;32m/opt/anaconda3/lib/python3.7/site-packages/pandas/core/indexes/base.py\u001b[0m in \u001b[0;36mget_loc\u001b[0;34m(self, key, method, tolerance)\u001b[0m\n\u001b[1;32m   2646\u001b[0m                 \u001b[0;32mreturn\u001b[0m \u001b[0mself\u001b[0m\u001b[0;34m.\u001b[0m\u001b[0m_engine\u001b[0m\u001b[0;34m.\u001b[0m\u001b[0mget_loc\u001b[0m\u001b[0;34m(\u001b[0m\u001b[0mkey\u001b[0m\u001b[0;34m)\u001b[0m\u001b[0;34m\u001b[0m\u001b[0;34m\u001b[0m\u001b[0m\n\u001b[1;32m   2647\u001b[0m             \u001b[0;32mexcept\u001b[0m \u001b[0mKeyError\u001b[0m\u001b[0;34m:\u001b[0m\u001b[0;34m\u001b[0m\u001b[0;34m\u001b[0m\u001b[0m\n\u001b[0;32m-> 2648\u001b[0;31m                 \u001b[0;32mreturn\u001b[0m \u001b[0mself\u001b[0m\u001b[0;34m.\u001b[0m\u001b[0m_engine\u001b[0m\u001b[0;34m.\u001b[0m\u001b[0mget_loc\u001b[0m\u001b[0;34m(\u001b[0m\u001b[0mself\u001b[0m\u001b[0;34m.\u001b[0m\u001b[0m_maybe_cast_indexer\u001b[0m\u001b[0;34m(\u001b[0m\u001b[0mkey\u001b[0m\u001b[0;34m)\u001b[0m\u001b[0;34m)\u001b[0m\u001b[0;34m\u001b[0m\u001b[0;34m\u001b[0m\u001b[0m\n\u001b[0m\u001b[1;32m   2649\u001b[0m         \u001b[0mindexer\u001b[0m \u001b[0;34m=\u001b[0m \u001b[0mself\u001b[0m\u001b[0;34m.\u001b[0m\u001b[0mget_indexer\u001b[0m\u001b[0;34m(\u001b[0m\u001b[0;34m[\u001b[0m\u001b[0mkey\u001b[0m\u001b[0;34m]\u001b[0m\u001b[0;34m,\u001b[0m \u001b[0mmethod\u001b[0m\u001b[0;34m=\u001b[0m\u001b[0mmethod\u001b[0m\u001b[0;34m,\u001b[0m \u001b[0mtolerance\u001b[0m\u001b[0;34m=\u001b[0m\u001b[0mtolerance\u001b[0m\u001b[0;34m)\u001b[0m\u001b[0;34m\u001b[0m\u001b[0;34m\u001b[0m\u001b[0m\n\u001b[1;32m   2650\u001b[0m         \u001b[0;32mif\u001b[0m \u001b[0mindexer\u001b[0m\u001b[0;34m.\u001b[0m\u001b[0mndim\u001b[0m \u001b[0;34m>\u001b[0m \u001b[0;36m1\u001b[0m \u001b[0;32mor\u001b[0m \u001b[0mindexer\u001b[0m\u001b[0;34m.\u001b[0m\u001b[0msize\u001b[0m \u001b[0;34m>\u001b[0m \u001b[0;36m1\u001b[0m\u001b[0;34m:\u001b[0m\u001b[0;34m\u001b[0m\u001b[0;34m\u001b[0m\u001b[0m\n",
      "\u001b[0;32mpandas/_libs/index.pyx\u001b[0m in \u001b[0;36mpandas._libs.index.IndexEngine.get_loc\u001b[0;34m()\u001b[0m\n",
      "\u001b[0;32mpandas/_libs/index.pyx\u001b[0m in \u001b[0;36mpandas._libs.index.IndexEngine.get_loc\u001b[0;34m()\u001b[0m\n",
      "\u001b[0;32mpandas/_libs/hashtable_class_helper.pxi\u001b[0m in \u001b[0;36mpandas._libs.hashtable.PyObjectHashTable.get_item\u001b[0;34m()\u001b[0m\n",
      "\u001b[0;32mpandas/_libs/hashtable_class_helper.pxi\u001b[0m in \u001b[0;36mpandas._libs.hashtable.PyObjectHashTable.get_item\u001b[0;34m()\u001b[0m\n",
      "\u001b[0;31mKeyError\u001b[0m: 'offer id'"
     ]
    }
   ],
   "source": [
    "#Distribution of promote type\n",
    "study_promotype = study_tran\n",
    "study_promotype['offer id'].replace(to_replace = {'ae264e3637204a6fb9bb56bc8210ddfd':'bogo','4d5c57ea9a6940dd891ad53e9dbe8da0':'bogo','9b98b8c7a33c4b65b9aebfe6a799e6d9':'bogo','3f207df678b143eea3cee63160fa8bed':'informational','0b1e1539f2cc45b7b9fa7c272da2e1d7':'discount','2298d6c36e964ae4a3e7e9706d1fb8c2':'discount','fafdcd668e3743c1bb461111dcafc2a4':'discount','5a8bc65990b245e5a138643cd4eb9837':'informational','f19421c1d4aa40978ebb69ca19b0e20d':'bogo','2906b810c7d4411798c6938adc9daaa5':'discount','':'none'},inplace = True)\n",
    "promo_val = list(study_promotype['offer id'].value_counts())\n",
    "promo_type = list(study_promotype['offer id'].value_counts().index)\n",
    "\n",
    "# Plot the data in a pie chart\n",
    "fig, ax = plt.subplots(figsize=(10, 5), subplot_kw=dict(aspect=\"equal\"))\n",
    "data = promo_val\n",
    "ingredients = promo_type\n",
    "\n",
    "\n",
    "def func(pct, allvals):\n",
    "    if pct/100.*np.sum(allvals)>0.01:\n",
    "        absolute = int(pct/100.*np.sum(allvals))\n",
    "        return \"{:.1f}%\\n\".format(pct, absolute)\n",
    "    else:\n",
    "        return None\n",
    "\n",
    "\n",
    "wedges, texts, autotexts = ax.pie(data, autopct=lambda pct: func(pct, data),\n",
    "                                  textprops=dict(color=\"w\"))\n",
    "\n",
    "ax.legend(wedges, ingredients,\n",
    "          loc=\"center left\",\n",
    "          fontsize = 16,\n",
    "          bbox_to_anchor=(1, 0, 0.5, 1))\n",
    "\n",
    "plt.setp(autotexts, size=14, weight=\"bold\")\n",
    "\n",
    "ax.set_title(\"Distribution of promo type\",fontsize=24, loc = 'left')\n",
    "\n",
    "plt.show()\n"
   ]
  },
  {
   "cell_type": "code",
   "execution_count": 42,
   "metadata": {},
   "outputs": [
    {
     "data": {
      "image/png": "[encoded data removed]",
      "text/plain": [
       "<Figure size 720x360 with 1 Axes>"
      ]
     },
     "metadata": {},
     "output_type": "display_data"
    }
   ],
   "source": [
    "# 3) What is the usage of the promote method\n",
    "study_tran.event.value_counts()\n",
    "promo_val = list(study_tran.event.value_counts())\n",
    "promo_type = list(study_tran.event.value_counts().index)\n",
    "\n",
    "# Plot the data in a pie chart\n",
    "fig, ax = plt.subplots(figsize=(10, 5), subplot_kw=dict(aspect=\"equal\"))\n",
    "data = promo_val\n",
    "ingredients = promo_type\n",
    "\n",
    "\n",
    "def func(pct, allvals):\n",
    "    if pct/100.*np.sum(allvals)>0.01:\n",
    "        absolute = int(pct/100.*np.sum(allvals))\n",
    "        return \"{:.1f}%\\n\".format(pct, absolute)\n",
    "    else:\n",
    "        return None\n",
    "\n",
    "\n",
    "wedges, texts, autotexts = ax.pie(data, autopct=lambda pct: func(pct, data),\n",
    "                                  textprops=dict(color=\"w\"))\n",
    "\n",
    "ax.legend(wedges, ingredients,\n",
    "          loc=\"center left\",\n",
    "          fontsize = 16,\n",
    "          bbox_to_anchor=(1, 0, 0.5, 1))\n",
    "\n",
    "plt.setp(autotexts, size=14, weight=\"bold\")\n",
    "\n",
    "ax.set_title(\"Distribution of promo type\",fontsize=24, loc = 'left')\n",
    "\n",
    "plt.show()\n"
   ]
  },
  {
   "cell_type": "code",
   "execution_count": 74,
   "metadata": {},
   "outputs": [],
   "source": [
    "# 4) What is the accumulate usage of promote method with different gender\n",
    "promo_val_male = list(study_tran.event.value_counts())\n",
    "promo_type_male = list(study_tran.event.value_counts().index)"
   ]
  },
  {
   "cell_type": "markdown",
   "metadata": {},
   "source": [
    "### Reserch into users transcript\n",
    "\n",
    "1) What is the mean time of purchase for users\n",
    "\n",
    "2) What is the frequency distribution of users"
   ]
  },
  {
   "cell_type": "code",
   "execution_count": 75,
   "metadata": {},
   "outputs": [
    {
     "data": {
      "text/html": [
       "<div>\n",
       "<style scoped>\n",
       "    .dataframe tbody tr th:only-of-type {\n",
       "        vertical-align: middle;\n",
       "    }\n",
       "\n",
       "    .dataframe tbody tr th {\n",
       "        vertical-align: top;\n",
       "    }\n",
       "\n",
       "    .dataframe thead th {\n",
       "        text-align: right;\n",
       "    }\n",
       "</style>\n",
       "<table border=\"1\" class=\"dataframe\">\n",
       "  <thead>\n",
       "    <tr style=\"text-align: right;\">\n",
       "      <th></th>\n",
       "      <th>person</th>\n",
       "      <th>event</th>\n",
       "      <th>value</th>\n",
       "      <th>time</th>\n",
       "      <th>amount</th>\n",
       "      <th>reward</th>\n",
       "      <th>offer id</th>\n",
       "    </tr>\n",
       "  </thead>\n",
       "  <tbody>\n",
       "    <tr>\n",
       "      <th>0</th>\n",
       "      <td>78afa995795e4d85b5d9ceeca43f5fef</td>\n",
       "      <td>offer received</td>\n",
       "      <td>{'offer id': '9b98b8c7a33c4b65b9aebfe6a799e6d9'}</td>\n",
       "      <td>0</td>\n",
       "      <td>0.0</td>\n",
       "      <td>0.0</td>\n",
       "      <td>bogo</td>\n",
       "    </tr>\n",
       "    <tr>\n",
       "      <th>1</th>\n",
       "      <td>a03223e636434f42ac4c3df47e8bac43</td>\n",
       "      <td>offer received</td>\n",
       "      <td>{'offer id': '0b1e1539f2cc45b7b9fa7c272da2e1d7'}</td>\n",
       "      <td>0</td>\n",
       "      <td>0.0</td>\n",
       "      <td>0.0</td>\n",
       "      <td>discount</td>\n",
       "    </tr>\n",
       "    <tr>\n",
       "      <th>2</th>\n",
       "      <td>e2127556f4f64592b11af22de27a7932</td>\n",
       "      <td>offer received</td>\n",
       "      <td>{'offer id': '2906b810c7d4411798c6938adc9daaa5'}</td>\n",
       "      <td>0</td>\n",
       "      <td>0.0</td>\n",
       "      <td>0.0</td>\n",
       "      <td>discount</td>\n",
       "    </tr>\n",
       "    <tr>\n",
       "      <th>3</th>\n",
       "      <td>8ec6ce2a7e7949b1bf142def7d0e0586</td>\n",
       "      <td>offer received</td>\n",
       "      <td>{'offer id': 'fafdcd668e3743c1bb461111dcafc2a4'}</td>\n",
       "      <td>0</td>\n",
       "      <td>0.0</td>\n",
       "      <td>0.0</td>\n",
       "      <td>discount</td>\n",
       "    </tr>\n",
       "    <tr>\n",
       "      <th>4</th>\n",
       "      <td>68617ca6246f4fbc85e91a2a49552598</td>\n",
       "      <td>offer received</td>\n",
       "      <td>{'offer id': '4d5c57ea9a6940dd891ad53e9dbe8da0'}</td>\n",
       "      <td>0</td>\n",
       "      <td>0.0</td>\n",
       "      <td>0.0</td>\n",
       "      <td>bogo</td>\n",
       "    </tr>\n",
       "  </tbody>\n",
       "</table>\n",
       "</div>"
      ],
      "text/plain": [
       "                             person           event  \\\n",
       "0  78afa995795e4d85b5d9ceeca43f5fef  offer received   \n",
       "1  a03223e636434f42ac4c3df47e8bac43  offer received   \n",
       "2  e2127556f4f64592b11af22de27a7932  offer received   \n",
       "3  8ec6ce2a7e7949b1bf142def7d0e0586  offer received   \n",
       "4  68617ca6246f4fbc85e91a2a49552598  offer received   \n",
       "\n",
       "                                              value  time  amount  reward  \\\n",
       "0  {'offer id': '9b98b8c7a33c4b65b9aebfe6a799e6d9'}     0     0.0     0.0   \n",
       "1  {'offer id': '0b1e1539f2cc45b7b9fa7c272da2e1d7'}     0     0.0     0.0   \n",
       "2  {'offer id': '2906b810c7d4411798c6938adc9daaa5'}     0     0.0     0.0   \n",
       "3  {'offer id': 'fafdcd668e3743c1bb461111dcafc2a4'}     0     0.0     0.0   \n",
       "4  {'offer id': '4d5c57ea9a6940dd891ad53e9dbe8da0'}     0     0.0     0.0   \n",
       "\n",
       "   offer id  \n",
       "0      bogo  \n",
       "1  discount  \n",
       "2  discount  \n",
       "3  discount  \n",
       "4      bogo  "
      ]
     },
     "execution_count": 75,
     "metadata": {},
     "output_type": "execute_result"
    }
   ],
   "source": [
    "study_tran.head()"
   ]
  },
  {
   "cell_type": "code",
   "execution_count": 76,
   "metadata": {},
   "outputs": [
    {
     "data": {
      "text/plain": [
       "18.031411764705883"
      ]
     },
     "execution_count": 76,
     "metadata": {},
     "output_type": "execute_result"
    }
   ],
   "source": [
    "# 1） what is the mean time of purchase for users\n",
    "study_tran['person'].value_counts().mean()"
   ]
  },
  {
   "cell_type": "code",
   "execution_count": 77,
   "metadata": {},
   "outputs": [
    {
     "data": {
      "image/png": "[encoded data removed]",
      "text/plain": [
       "<Figure size 432x288 with 1 Axes>"
      ]
     },
     "metadata": {},
     "output_type": "display_data"
    }
   ],
   "source": [
    "# 2) What is the frequency distribution of users\n",
    "x1= list(study_tran['person'].value_counts())\n",
    "# Plot the Age distribution of the starbuck user\n",
    "current_palette = sns.color_palette()\n",
    "sns.set(font_scale=1.5)\n",
    "sns.set_style('white')\n",
    "sns.distplot(x1,color=current_palette[1])\n",
    "plt.xlabel('Times')\n",
    "plt.xlim(0, 40)\n",
    "plt.ylabel('P(Times)')\n",
    "plt.title('Perchase Count')\n",
    "plt.tight_layout()"
   ]
  },
  {
   "cell_type": "markdown",
   "metadata": {},
   "source": [
    "### 6. Machine learning model\n",
    "Machine learning models was built to predict whether a specific user would actually use a pomote code while receiving a specific one\n",
    "\n",
    "Possible variable that could possiblily effect the decision making of whether to use the promo method are:\n",
    "    1. Age of the user\n",
    "    2. Gender of the user\n",
    "    3. Time of the discount last\n",
    "    4. Amount of the rewards\n",
    "    5. Income of the user\n",
    "    6. Difficulty\n",
    "    7. Duration\n",
    "    8. offer_type\n",
    "    9. Source of the discount\n",
    "    \n",
    "    \n",
    "Three models was built with different training algorithm\n",
    "        \n",
    "1. Logistic regression\n",
    "2. Naive Bayes\n",
    "3. Support Vector Machine"
   ]
  },
  {
   "cell_type": "markdown",
   "metadata": {},
   "source": [
    "### Dataset preparation"
   ]
  },
  {
   "cell_type": "code",
   "execution_count": 78,
   "metadata": {},
   "outputs": [],
   "source": [
    "# Resorces of processed data frame\n",
    "# The portfolio of the promote code: portfolio\n",
    "# Processed info of the users: profile\n",
    "# The process of transcript info : study_tran"
   ]
  },
  {
   "cell_type": "code",
   "execution_count": 88,
   "metadata": {},
   "outputs": [],
   "source": [
    "profile.head()\n",
    "portfolio.head()\n",
    "study_tran = transcript.copy()"
   ]
  },
  {
   "cell_type": "code",
   "execution_count": 91,
   "metadata": {},
   "outputs": [],
   "source": [
    "# Before training model we merge the useful data into one dataframe\n",
    "portfolio.rename(columns={'id':'offer_id'},inplace=True) \n",
    "study_tran.rename(columns={'person':'user_id', 'offer id':'offer_id','reward':'user_reward'},\n",
    "                  inplace=True) \n",
    "profile.rename(columns={'id':'user_id'},inplace=True) # one-time code\n",
    "part=pd.merge(study_tran,profile,how='left',on=['user_id']) \n",
    "merged=pd.merge(part,portfolio,how='left',on=['offer_id'])\n",
    "merged.drop('became_member_on',axis = 1,inplace = True)"
   ]
  },
  {
   "cell_type": "code",
   "execution_count": 92,
   "metadata": {},
   "outputs": [
    {
     "data": {
      "text/html": [
       "<div>\n",
       "<style scoped>\n",
       "    .dataframe tbody tr th:only-of-type {\n",
       "        vertical-align: middle;\n",
       "    }\n",
       "\n",
       "    .dataframe tbody tr th {\n",
       "        vertical-align: top;\n",
       "    }\n",
       "\n",
       "    .dataframe thead th {\n",
       "        text-align: right;\n",
       "    }\n",
       "</style>\n",
       "<table border=\"1\" class=\"dataframe\">\n",
       "  <thead>\n",
       "    <tr style=\"text-align: right;\">\n",
       "      <th></th>\n",
       "      <th>user_id</th>\n",
       "      <th>event</th>\n",
       "      <th>value</th>\n",
       "      <th>time</th>\n",
       "      <th>amount</th>\n",
       "      <th>user_reward</th>\n",
       "      <th>offer_id</th>\n",
       "      <th>gender</th>\n",
       "      <th>age</th>\n",
       "      <th>income</th>\n",
       "      <th>reward</th>\n",
       "      <th>difficulty</th>\n",
       "      <th>duration</th>\n",
       "      <th>offer_type</th>\n",
       "      <th>web</th>\n",
       "      <th>email</th>\n",
       "      <th>mobile</th>\n",
       "      <th>social</th>\n",
       "    </tr>\n",
       "  </thead>\n",
       "  <tbody>\n",
       "    <tr>\n",
       "      <th>0</th>\n",
       "      <td>78afa995795e4d85b5d9ceeca43f5fef</td>\n",
       "      <td>offer received</td>\n",
       "      <td>{'offer id': '9b98b8c7a33c4b65b9aebfe6a799e6d9'}</td>\n",
       "      <td>0</td>\n",
       "      <td>0.0</td>\n",
       "      <td>0.0</td>\n",
       "      <td>9b98b8c7a33c4b65b9aebfe6a799e6d9</td>\n",
       "      <td>F</td>\n",
       "      <td>75</td>\n",
       "      <td>100000.0</td>\n",
       "      <td>5.0</td>\n",
       "      <td>5.0</td>\n",
       "      <td>7.0</td>\n",
       "      <td>bogo</td>\n",
       "      <td>1.0</td>\n",
       "      <td>1.0</td>\n",
       "      <td>1.0</td>\n",
       "      <td>0.0</td>\n",
       "    </tr>\n",
       "    <tr>\n",
       "      <th>1</th>\n",
       "      <td>a03223e636434f42ac4c3df47e8bac43</td>\n",
       "      <td>offer received</td>\n",
       "      <td>{'offer id': '0b1e1539f2cc45b7b9fa7c272da2e1d7'}</td>\n",
       "      <td>0</td>\n",
       "      <td>0.0</td>\n",
       "      <td>0.0</td>\n",
       "      <td>0b1e1539f2cc45b7b9fa7c272da2e1d7</td>\n",
       "      <td>None</td>\n",
       "      <td>0</td>\n",
       "      <td>NaN</td>\n",
       "      <td>5.0</td>\n",
       "      <td>20.0</td>\n",
       "      <td>10.0</td>\n",
       "      <td>discount</td>\n",
       "      <td>1.0</td>\n",
       "      <td>1.0</td>\n",
       "      <td>0.0</td>\n",
       "      <td>0.0</td>\n",
       "    </tr>\n",
       "    <tr>\n",
       "      <th>2</th>\n",
       "      <td>e2127556f4f64592b11af22de27a7932</td>\n",
       "      <td>offer received</td>\n",
       "      <td>{'offer id': '2906b810c7d4411798c6938adc9daaa5'}</td>\n",
       "      <td>0</td>\n",
       "      <td>0.0</td>\n",
       "      <td>0.0</td>\n",
       "      <td>2906b810c7d4411798c6938adc9daaa5</td>\n",
       "      <td>M</td>\n",
       "      <td>68</td>\n",
       "      <td>70000.0</td>\n",
       "      <td>2.0</td>\n",
       "      <td>10.0</td>\n",
       "      <td>7.0</td>\n",
       "      <td>discount</td>\n",
       "      <td>1.0</td>\n",
       "      <td>1.0</td>\n",
       "      <td>1.0</td>\n",
       "      <td>0.0</td>\n",
       "    </tr>\n",
       "    <tr>\n",
       "      <th>3</th>\n",
       "      <td>8ec6ce2a7e7949b1bf142def7d0e0586</td>\n",
       "      <td>offer received</td>\n",
       "      <td>{'offer id': 'fafdcd668e3743c1bb461111dcafc2a4'}</td>\n",
       "      <td>0</td>\n",
       "      <td>0.0</td>\n",
       "      <td>0.0</td>\n",
       "      <td>fafdcd668e3743c1bb461111dcafc2a4</td>\n",
       "      <td>None</td>\n",
       "      <td>0</td>\n",
       "      <td>NaN</td>\n",
       "      <td>2.0</td>\n",
       "      <td>10.0</td>\n",
       "      <td>10.0</td>\n",
       "      <td>discount</td>\n",
       "      <td>1.0</td>\n",
       "      <td>1.0</td>\n",
       "      <td>1.0</td>\n",
       "      <td>1.0</td>\n",
       "    </tr>\n",
       "    <tr>\n",
       "      <th>4</th>\n",
       "      <td>68617ca6246f4fbc85e91a2a49552598</td>\n",
       "      <td>offer received</td>\n",
       "      <td>{'offer id': '4d5c57ea9a6940dd891ad53e9dbe8da0'}</td>\n",
       "      <td>0</td>\n",
       "      <td>0.0</td>\n",
       "      <td>0.0</td>\n",
       "      <td>4d5c57ea9a6940dd891ad53e9dbe8da0</td>\n",
       "      <td>None</td>\n",
       "      <td>0</td>\n",
       "      <td>NaN</td>\n",
       "      <td>10.0</td>\n",
       "      <td>10.0</td>\n",
       "      <td>5.0</td>\n",
       "      <td>bogo</td>\n",
       "      <td>1.0</td>\n",
       "      <td>1.0</td>\n",
       "      <td>1.0</td>\n",
       "      <td>1.0</td>\n",
       "    </tr>\n",
       "  </tbody>\n",
       "</table>\n",
       "</div>"
      ],
      "text/plain": [
       "                            user_id           event  \\\n",
       "0  78afa995795e4d85b5d9ceeca43f5fef  offer received   \n",
       "1  a03223e636434f42ac4c3df47e8bac43  offer received   \n",
       "2  e2127556f4f64592b11af22de27a7932  offer received   \n",
       "3  8ec6ce2a7e7949b1bf142def7d0e0586  offer received   \n",
       "4  68617ca6246f4fbc85e91a2a49552598  offer received   \n",
       "\n",
       "                                              value  time  amount  \\\n",
       "0  {'offer id': '9b98b8c7a33c4b65b9aebfe6a799e6d9'}     0     0.0   \n",
       "1  {'offer id': '0b1e1539f2cc45b7b9fa7c272da2e1d7'}     0     0.0   \n",
       "2  {'offer id': '2906b810c7d4411798c6938adc9daaa5'}     0     0.0   \n",
       "3  {'offer id': 'fafdcd668e3743c1bb461111dcafc2a4'}     0     0.0   \n",
       "4  {'offer id': '4d5c57ea9a6940dd891ad53e9dbe8da0'}     0     0.0   \n",
       "\n",
       "   user_reward                          offer_id gender  age    income  \\\n",
       "0          0.0  9b98b8c7a33c4b65b9aebfe6a799e6d9      F   75  100000.0   \n",
       "1          0.0  0b1e1539f2cc45b7b9fa7c272da2e1d7   None    0       NaN   \n",
       "2          0.0  2906b810c7d4411798c6938adc9daaa5      M   68   70000.0   \n",
       "3          0.0  fafdcd668e3743c1bb461111dcafc2a4   None    0       NaN   \n",
       "4          0.0  4d5c57ea9a6940dd891ad53e9dbe8da0   None    0       NaN   \n",
       "\n",
       "   reward  difficulty  duration offer_type  web  email  mobile  social  \n",
       "0     5.0         5.0       7.0       bogo  1.0    1.0     1.0     0.0  \n",
       "1     5.0        20.0      10.0   discount  1.0    1.0     0.0     0.0  \n",
       "2     2.0        10.0       7.0   discount  1.0    1.0     1.0     0.0  \n",
       "3     2.0        10.0      10.0   discount  1.0    1.0     1.0     1.0  \n",
       "4    10.0        10.0       5.0       bogo  1.0    1.0     1.0     1.0  "
      ]
     },
     "execution_count": 92,
     "metadata": {},
     "output_type": "execute_result"
    }
   ],
   "source": [
    "merged.head()"
   ]
  },
  {
   "cell_type": "code",
   "execution_count": 90,
   "metadata": {},
   "outputs": [
    {
     "data": {
      "text/html": [
       "<div>\n",
       "<style scoped>\n",
       "    .dataframe tbody tr th:only-of-type {\n",
       "        vertical-align: middle;\n",
       "    }\n",
       "\n",
       "    .dataframe tbody tr th {\n",
       "        vertical-align: top;\n",
       "    }\n",
       "\n",
       "    .dataframe thead th {\n",
       "        text-align: right;\n",
       "    }\n",
       "</style>\n",
       "<table border=\"1\" class=\"dataframe\">\n",
       "  <thead>\n",
       "    <tr style=\"text-align: right;\">\n",
       "      <th></th>\n",
       "      <th>event</th>\n",
       "      <th>time</th>\n",
       "      <th>amount</th>\n",
       "      <th>user_reward</th>\n",
       "      <th>gender</th>\n",
       "      <th>age</th>\n",
       "      <th>income</th>\n",
       "      <th>reward</th>\n",
       "      <th>difficulty</th>\n",
       "      <th>duration</th>\n",
       "      <th>offer_type</th>\n",
       "      <th>web</th>\n",
       "      <th>email</th>\n",
       "      <th>mobile</th>\n",
       "      <th>social</th>\n",
       "    </tr>\n",
       "  </thead>\n",
       "  <tbody>\n",
       "    <tr>\n",
       "      <th>0</th>\n",
       "      <td>offer received</td>\n",
       "      <td>0</td>\n",
       "      <td>0.0</td>\n",
       "      <td>0.0</td>\n",
       "      <td>F</td>\n",
       "      <td>75</td>\n",
       "      <td>100000.0</td>\n",
       "      <td>5.0</td>\n",
       "      <td>5.0</td>\n",
       "      <td>7.0</td>\n",
       "      <td>bogo</td>\n",
       "      <td>1.0</td>\n",
       "      <td>1.0</td>\n",
       "      <td>1.0</td>\n",
       "      <td>0.0</td>\n",
       "    </tr>\n",
       "    <tr>\n",
       "      <th>1</th>\n",
       "      <td>offer received</td>\n",
       "      <td>0</td>\n",
       "      <td>0.0</td>\n",
       "      <td>0.0</td>\n",
       "      <td>None</td>\n",
       "      <td>0</td>\n",
       "      <td>NaN</td>\n",
       "      <td>5.0</td>\n",
       "      <td>20.0</td>\n",
       "      <td>10.0</td>\n",
       "      <td>discount</td>\n",
       "      <td>1.0</td>\n",
       "      <td>1.0</td>\n",
       "      <td>0.0</td>\n",
       "      <td>0.0</td>\n",
       "    </tr>\n",
       "    <tr>\n",
       "      <th>2</th>\n",
       "      <td>offer received</td>\n",
       "      <td>0</td>\n",
       "      <td>0.0</td>\n",
       "      <td>0.0</td>\n",
       "      <td>M</td>\n",
       "      <td>68</td>\n",
       "      <td>70000.0</td>\n",
       "      <td>2.0</td>\n",
       "      <td>10.0</td>\n",
       "      <td>7.0</td>\n",
       "      <td>discount</td>\n",
       "      <td>1.0</td>\n",
       "      <td>1.0</td>\n",
       "      <td>1.0</td>\n",
       "      <td>0.0</td>\n",
       "    </tr>\n",
       "    <tr>\n",
       "      <th>3</th>\n",
       "      <td>offer received</td>\n",
       "      <td>0</td>\n",
       "      <td>0.0</td>\n",
       "      <td>0.0</td>\n",
       "      <td>None</td>\n",
       "      <td>0</td>\n",
       "      <td>NaN</td>\n",
       "      <td>2.0</td>\n",
       "      <td>10.0</td>\n",
       "      <td>10.0</td>\n",
       "      <td>discount</td>\n",
       "      <td>1.0</td>\n",
       "      <td>1.0</td>\n",
       "      <td>1.0</td>\n",
       "      <td>1.0</td>\n",
       "    </tr>\n",
       "    <tr>\n",
       "      <th>4</th>\n",
       "      <td>offer received</td>\n",
       "      <td>0</td>\n",
       "      <td>0.0</td>\n",
       "      <td>0.0</td>\n",
       "      <td>None</td>\n",
       "      <td>0</td>\n",
       "      <td>NaN</td>\n",
       "      <td>10.0</td>\n",
       "      <td>10.0</td>\n",
       "      <td>5.0</td>\n",
       "      <td>bogo</td>\n",
       "      <td>1.0</td>\n",
       "      <td>1.0</td>\n",
       "      <td>1.0</td>\n",
       "      <td>1.0</td>\n",
       "    </tr>\n",
       "  </tbody>\n",
       "</table>\n",
       "</div>"
      ],
      "text/plain": [
       "            event  time  amount  user_reward gender  age    income  reward  \\\n",
       "0  offer received     0     0.0          0.0      F   75  100000.0     5.0   \n",
       "1  offer received     0     0.0          0.0   None    0       NaN     5.0   \n",
       "2  offer received     0     0.0          0.0      M   68   70000.0     2.0   \n",
       "3  offer received     0     0.0          0.0   None    0       NaN     2.0   \n",
       "4  offer received     0     0.0          0.0   None    0       NaN    10.0   \n",
       "\n",
       "   difficulty  duration offer_type  web  email  mobile  social  \n",
       "0         5.0       7.0       bogo  1.0    1.0     1.0     0.0  \n",
       "1        20.0      10.0   discount  1.0    1.0     0.0     0.0  \n",
       "2        10.0       7.0   discount  1.0    1.0     1.0     0.0  \n",
       "3        10.0      10.0   discount  1.0    1.0     1.0     1.0  \n",
       "4        10.0       5.0       bogo  1.0    1.0     1.0     1.0  "
      ]
     },
     "execution_count": 90,
     "metadata": {},
     "output_type": "execute_result"
    }
   ],
   "source": [
    "study_model = merged.copy()\n",
    "study_model.drop('user_id',axis = 1, inplace = True)\n",
    "study_model.drop('value',axis = 1, inplace = True)\n",
    "study_model.drop('offer_id',axis = 1, inplace = True)"
   ]
  },
  {
   "cell_type": "code",
   "execution_count": 82,
   "metadata": {},
   "outputs": [],
   "source": [
    "study_model.income.fillna(65404,inplace = True)\n",
    "study_model.gender.fillna('N',inplace = True)"
   ]
  },
  {
   "cell_type": "code",
   "execution_count": 83,
   "metadata": {},
   "outputs": [
    {
     "data": {
      "text/html": [
       "<div>\n",
       "<style scoped>\n",
       "    .dataframe tbody tr th:only-of-type {\n",
       "        vertical-align: middle;\n",
       "    }\n",
       "\n",
       "    .dataframe tbody tr th {\n",
       "        vertical-align: top;\n",
       "    }\n",
       "\n",
       "    .dataframe thead th {\n",
       "        text-align: right;\n",
       "    }\n",
       "</style>\n",
       "<table border=\"1\" class=\"dataframe\">\n",
       "  <thead>\n",
       "    <tr style=\"text-align: right;\">\n",
       "      <th></th>\n",
       "      <th>event</th>\n",
       "      <th>time</th>\n",
       "      <th>amount</th>\n",
       "      <th>user_reward</th>\n",
       "      <th>gender</th>\n",
       "      <th>age</th>\n",
       "      <th>income</th>\n",
       "      <th>reward</th>\n",
       "      <th>difficulty</th>\n",
       "      <th>duration</th>\n",
       "      <th>offer_type</th>\n",
       "      <th>web</th>\n",
       "      <th>email</th>\n",
       "      <th>mobile</th>\n",
       "      <th>social</th>\n",
       "    </tr>\n",
       "  </thead>\n",
       "  <tbody>\n",
       "    <tr>\n",
       "      <th>0</th>\n",
       "      <td>offer received</td>\n",
       "      <td>0</td>\n",
       "      <td>0.0</td>\n",
       "      <td>0.0</td>\n",
       "      <td>F</td>\n",
       "      <td>75</td>\n",
       "      <td>100000.0</td>\n",
       "      <td>5.0</td>\n",
       "      <td>5.0</td>\n",
       "      <td>7.0</td>\n",
       "      <td>bogo</td>\n",
       "      <td>1.0</td>\n",
       "      <td>1.0</td>\n",
       "      <td>1.0</td>\n",
       "      <td>0.0</td>\n",
       "    </tr>\n",
       "    <tr>\n",
       "      <th>1</th>\n",
       "      <td>offer received</td>\n",
       "      <td>0</td>\n",
       "      <td>0.0</td>\n",
       "      <td>0.0</td>\n",
       "      <td>N</td>\n",
       "      <td>0</td>\n",
       "      <td>65404.0</td>\n",
       "      <td>5.0</td>\n",
       "      <td>20.0</td>\n",
       "      <td>10.0</td>\n",
       "      <td>discount</td>\n",
       "      <td>1.0</td>\n",
       "      <td>1.0</td>\n",
       "      <td>0.0</td>\n",
       "      <td>0.0</td>\n",
       "    </tr>\n",
       "    <tr>\n",
       "      <th>2</th>\n",
       "      <td>offer received</td>\n",
       "      <td>0</td>\n",
       "      <td>0.0</td>\n",
       "      <td>0.0</td>\n",
       "      <td>M</td>\n",
       "      <td>68</td>\n",
       "      <td>70000.0</td>\n",
       "      <td>2.0</td>\n",
       "      <td>10.0</td>\n",
       "      <td>7.0</td>\n",
       "      <td>discount</td>\n",
       "      <td>1.0</td>\n",
       "      <td>1.0</td>\n",
       "      <td>1.0</td>\n",
       "      <td>0.0</td>\n",
       "    </tr>\n",
       "    <tr>\n",
       "      <th>3</th>\n",
       "      <td>offer received</td>\n",
       "      <td>0</td>\n",
       "      <td>0.0</td>\n",
       "      <td>0.0</td>\n",
       "      <td>N</td>\n",
       "      <td>0</td>\n",
       "      <td>65404.0</td>\n",
       "      <td>2.0</td>\n",
       "      <td>10.0</td>\n",
       "      <td>10.0</td>\n",
       "      <td>discount</td>\n",
       "      <td>1.0</td>\n",
       "      <td>1.0</td>\n",
       "      <td>1.0</td>\n",
       "      <td>1.0</td>\n",
       "    </tr>\n",
       "    <tr>\n",
       "      <th>4</th>\n",
       "      <td>offer received</td>\n",
       "      <td>0</td>\n",
       "      <td>0.0</td>\n",
       "      <td>0.0</td>\n",
       "      <td>N</td>\n",
       "      <td>0</td>\n",
       "      <td>65404.0</td>\n",
       "      <td>10.0</td>\n",
       "      <td>10.0</td>\n",
       "      <td>5.0</td>\n",
       "      <td>bogo</td>\n",
       "      <td>1.0</td>\n",
       "      <td>1.0</td>\n",
       "      <td>1.0</td>\n",
       "      <td>1.0</td>\n",
       "    </tr>\n",
       "  </tbody>\n",
       "</table>\n",
       "</div>"
      ],
      "text/plain": [
       "            event  time  amount  user_reward gender  age    income  reward  \\\n",
       "0  offer received     0     0.0          0.0      F   75  100000.0     5.0   \n",
       "1  offer received     0     0.0          0.0      N    0   65404.0     5.0   \n",
       "2  offer received     0     0.0          0.0      M   68   70000.0     2.0   \n",
       "3  offer received     0     0.0          0.0      N    0   65404.0     2.0   \n",
       "4  offer received     0     0.0          0.0      N    0   65404.0    10.0   \n",
       "\n",
       "   difficulty  duration offer_type  web  email  mobile  social  \n",
       "0         5.0       7.0       bogo  1.0    1.0     1.0     0.0  \n",
       "1        20.0      10.0   discount  1.0    1.0     0.0     0.0  \n",
       "2        10.0       7.0   discount  1.0    1.0     1.0     0.0  \n",
       "3        10.0      10.0   discount  1.0    1.0     1.0     1.0  \n",
       "4        10.0       5.0       bogo  1.0    1.0     1.0     1.0  "
      ]
     },
     "execution_count": 83,
     "metadata": {},
     "output_type": "execute_result"
    }
   ],
   "source": [
    "study_model.head()"
   ]
  },
  {
   "cell_type": "code",
   "execution_count": 84,
   "metadata": {},
   "outputs": [],
   "source": [
    "'''\n",
    "# Map gender and promo type into numbers \n",
    "# Map gender F to '1' and M to '2'\n",
    "# Map event offer received to '1' and offer viewed to '2' 'offer completed' to '3'\n",
    "# Map event bogo to '1' and discount to '2' 'informational' to 3\n",
    "'''\n",
    "study_model.gender.replace(to_replace = {'F':1,'M':2,'O':3,'N':0},inplace = True)\n",
    "study_model.event.replace(to_replace = {'offer received':0,'offer viewed':1,'offer completed':2},inplace = True)\n",
    "study_model.offer_type.replace(to_replace = {'bogo':1,'discount':2,'informational':3},inplace = True)"
   ]
  },
  {
   "cell_type": "code",
   "execution_count": 85,
   "metadata": {},
   "outputs": [],
   "source": [
    "feature = study_model.copy()\n",
    "feature = feature[feature['event']!='transaction']"
   ]
  },
  {
   "cell_type": "code",
   "execution_count": 86,
   "metadata": {},
   "outputs": [],
   "source": [
    "#Check the data set used for machine learning\n",
    "target = list(feature.event)"
   ]
  },
  {
   "cell_type": "code",
   "execution_count": 87,
   "metadata": {},
   "outputs": [
    {
     "ename": "NameError",
     "evalue": "name 'feature_mod' is not defined",
     "output_type": "error",
     "traceback": [
      "\u001b[0;31m---------------------------------------------------------------------------\u001b[0m",
      "\u001b[0;31mNameError\u001b[0m                                 Traceback (most recent call last)",
      "\u001b[0;32m<ipython-input-87-b261e957218e>\u001b[0m in \u001b[0;36m<module>\u001b[0;34m\u001b[0m\n\u001b[0;32m----> 1\u001b[0;31m \u001b[0mfeature_mod\u001b[0m\u001b[0;34m.\u001b[0m\u001b[0mhead\u001b[0m\u001b[0;34m(\u001b[0m\u001b[0;34m)\u001b[0m\u001b[0;34m\u001b[0m\u001b[0;34m\u001b[0m\u001b[0m\n\u001b[0m",
      "\u001b[0;31mNameError\u001b[0m: name 'feature_mod' is not defined"
     ]
    }
   ],
   "source": [
    "feature_mod.head()"
   ]
  },
  {
   "cell_type": "code",
   "execution_count": null,
   "metadata": {},
   "outputs": [],
   "source": [
    "feature_mod = feature.copy()\n",
    "feature_mod.drop('event',axis=1,inplace = True)\n",
    "# Fix the problem when age is 0, and replace it with the mean of age of users\n",
    "feature_mod.age.replace(to_replace = {0:47},inplace = True)\n",
    "feature_mod.astype(float)"
   ]
  },
  {
   "cell_type": "markdown",
   "metadata": {},
   "source": [
    "### Model construction"
   ]
  },
  {
   "cell_type": "code",
   "execution_count": 479,
   "metadata": {},
   "outputs": [],
   "source": [
    "# Resources for training and prediction\n",
    "# target ---- the reaction for users which receiving a promote code\n",
    "# feature_mod ---- resources to predict the target"
   ]
  },
  {
   "cell_type": "code",
   "execution_count": 480,
   "metadata": {},
   "outputs": [],
   "source": [
    "# Seperate the data into traing and test part\n",
    "from sklearn.model_selection import train_test_split, GridSearchCV\n",
    "X_train, X_test, y_train, y_test = train_test_split(feature_mod, target,test_size = 0.33, random_state=0)"
   ]
  },
  {
   "cell_type": "markdown",
   "metadata": {},
   "source": [
    "### Metrics of the evaluation method\n",
    "In this project we want to evaluate the model with two parameters:\n",
    "\n",
    "1) Precision\n",
    "\n",
    "2) Recall\n",
    "\n",
    "precision is the accuracy of single prediction of the model, it shows the accuracy of the model to make a single predicttion of user response to a sepcific offer.\n",
    "\n",
    "Recall shows the broadth of the model,it is the parameter to evaluate whether the model could catch as much as positive response users as possible.\n",
    "\n",
    "By conbining the two parameters, F1 score which is the Arithmetic mean of the precision and recall is applied as the core value for model evaluation. \n",
    "\n",
    "F1 = 2*precision*recall/(precision + recall)\n",
    "\n",
    "Precision = TP / (TP + FP)\n",
    "Recall = TP/ (TP + FN)\n",
    "\n",
    "Reference : \n",
    "https://scikit-learn.org/stable/modules/model_evaluation.html#classification-report"
   ]
  },
  {
   "cell_type": "code",
   "execution_count": 164,
   "metadata": {},
   "outputs": [],
   "source": [
    "# Build functions to evaluate the model\n",
    "def evaluate_model(model,X_test, y_test):\n",
    "    '''\n",
    "    Evaluation report of the model, and print the F1 scores\n",
    "    INPUT: model, x_test and y_test\n",
    "    OUPUT: evaluation report in text files \n",
    "    '''\n",
    "    y_predict = model.predict(X_test)\n",
    "    print(classification_report(y_test, y_predict))"
   ]
  },
  {
   "cell_type": "markdown",
   "metadata": {},
   "source": [
    "#### Model 1 - Logistic Regression"
   ]
  },
  {
   "cell_type": "code",
   "execution_count": 482,
   "metadata": {},
   "outputs": [
    {
     "name": "stdout",
     "output_type": "stream",
     "text": [
      "              precision    recall  f1-score   support\n",
      "\n",
      "           0       0.48      0.74      0.58     25354\n",
      "           1       0.39      0.25      0.30     18854\n",
      "           2       0.47      0.19      0.27     11094\n",
      "\n",
      "    accuracy                           0.46     55302\n",
      "   macro avg       0.45      0.39      0.38     55302\n",
      "weighted avg       0.45      0.46      0.42     55302\n",
      "\n"
     ]
    },
    {
     "name": "stderr",
     "output_type": "stream",
     "text": [
      "/opt/anaconda3/lib/python3.7/site-packages/sklearn/linear_model/_logistic.py:940: ConvergenceWarning: lbfgs failed to converge (status=1):\n",
      "STOP: TOTAL NO. of ITERATIONS REACHED LIMIT.\n",
      "\n",
      "Increase the number of iterations (max_iter) or scale the data as shown in:\n",
      "    https://scikit-learn.org/stable/modules/preprocessing.html\n",
      "Please also refer to the documentation for alternative solver options:\n",
      "    https://scikit-learn.org/stable/modules/linear_model.html#logistic-regression\n",
      "  extra_warning_msg=_LOGISTIC_SOLVER_CONVERGENCE_MSG)\n"
     ]
    }
   ],
   "source": [
    "logreg = LogisticRegression()\n",
    "logreg.fit(X_train, y_train)\n",
    "evaluate_model(logreg,X_test, y_test)"
   ]
  },
  {
   "cell_type": "code",
   "execution_count": 492,
   "metadata": {},
   "outputs": [],
   "source": [
    "with open('Logistic_regression_model.pkl', 'wb') as f1:\n",
    "    pickle.dump(logreg, f1)"
   ]
  },
  {
   "cell_type": "markdown",
   "metadata": {},
   "source": [
    "#### Model 2 - Naive Bayes"
   ]
  },
  {
   "cell_type": "code",
   "execution_count": 486,
   "metadata": {},
   "outputs": [
    {
     "name": "stdout",
     "output_type": "stream",
     "text": [
      "              precision    recall  f1-score   support\n",
      "\n",
      "           0       0.61      0.68      0.64     25354\n",
      "           1       0.49      0.41      0.44     18854\n",
      "           2       1.00      1.00      1.00     11094\n",
      "\n",
      "    accuracy                           0.65     55302\n",
      "   macro avg       0.70      0.70      0.70     55302\n",
      "weighted avg       0.65      0.65      0.65     55302\n",
      "\n"
     ]
    }
   ],
   "source": [
    "gnb = GaussianNB() \n",
    "gnb.fit(X_train, y_train) \n",
    "evaluate_model(gnb,X_test, y_test)"
   ]
  },
  {
   "cell_type": "code",
   "execution_count": 495,
   "metadata": {},
   "outputs": [],
   "source": [
    "with open('Naive_Bayes_model_first.pkl', 'wb') as f2:\n",
    "    pickle.dump(gnb, f2)"
   ]
  },
  {
   "cell_type": "markdown",
   "metadata": {},
   "source": [
    "#### Model 3 - Suport Vector Machine"
   ]
  },
  {
   "cell_type": "code",
   "execution_count": 487,
   "metadata": {},
   "outputs": [
    {
     "name": "stdout",
     "output_type": "stream",
     "text": [
      "              precision    recall  f1-score   support\n",
      "\n",
      "           0       0.46      1.00      0.63     25354\n",
      "           1       0.00      0.00      0.00     18854\n",
      "           2       0.00      0.00      0.00     11094\n",
      "\n",
      "    accuracy                           0.46     55302\n",
      "   macro avg       0.15      0.33      0.21     55302\n",
      "weighted avg       0.21      0.46      0.29     55302\n",
      "\n"
     ]
    },
    {
     "name": "stderr",
     "output_type": "stream",
     "text": [
      "/opt/anaconda3/lib/python3.7/site-packages/sklearn/metrics/_classification.py:1272: UndefinedMetricWarning: Precision and F-score are ill-defined and being set to 0.0 in labels with no predicted samples. Use `zero_division` parameter to control this behavior.\n",
      "  _warn_prf(average, modifier, msg_start, len(result))\n"
     ]
    }
   ],
   "source": [
    "svm = SVC()\n",
    "svm.fit(X_train, y_train)\n",
    "evaluate_model(svm,X_test, y_test)"
   ]
  },
  {
   "cell_type": "code",
   "execution_count": 496,
   "metadata": {},
   "outputs": [],
   "source": [
    "with open('Suport Vector Machine.pkl', 'wb') as f3:\n",
    "    pickle.dump(svm, f3)"
   ]
  },
  {
   "cell_type": "markdown",
   "metadata": {},
   "source": [
    "### Optimization of the model"
   ]
  },
  {
   "cell_type": "markdown",
   "metadata": {},
   "source": [
    "Instead of directly probe into the hyper parameters that effect the training procedure, I decided to better shape the data frame first. Since I found some potential flows in the data set. Due to the following reasons\n",
    "    \n",
    "    1.The profile data may contains extreme data points:\n",
    "    \n",
    "    2.The profile data may contains empty cells for the data set\n",
    "In this part we compared two different implantation method for model training and compare the result"
   ]
  },
  {
   "cell_type": "code",
   "execution_count": 27,
   "metadata": {},
   "outputs": [],
   "source": [
    "# Back up the original data set\n",
    "profile_ori = pd.read_json('data/profile.json', orient='records', lines=True)"
   ]
  },
  {
   "cell_type": "code",
   "execution_count": 28,
   "metadata": {},
   "outputs": [],
   "source": [
    "# Back up the original data set\n",
    "portfolio.rename(columns={'id':'offer_id'},inplace=True) \n",
    "study_tran.rename(columns={'person':'user_id', 'offer id':'offer_id','reward':'user_reward'},\n",
    "                  inplace=True) \n",
    "profile_ori.rename(columns={'id':'user_id'},inplace=True) # one-time code\n",
    "part = pd.merge(study_tran,profile_ori,how='left',on=['user_id']) \n",
    "merged_ori=pd.merge(part,portfolio,how='left',on=['offer_id'])\n",
    "merged_ori.drop('became_member_on',axis = 1,inplace = True)\n",
    "merged_ori.drop('user_id',axis = 1,inplace = True)\n",
    "merged_ori.drop('value',axis = 1,inplace = True)\n",
    "merged_ori.drop('offer_id',axis = 1,inplace = True)\n",
    "feature_ori = merged_ori.copy()\n",
    "feature_ori = feature_ori[feature_ori['event']!='transaction']\n",
    "feature_ori.gender.replace(to_replace = {'F':1,'M':2,'O':3},inplace = True)\n",
    "feature_ori.replace(to_replace = {'offer received':0,'offer viewed':1,'offer completed':2},inplace = True)\n",
    "feature_ori.replace(to_replace = {'bogo':1,'discount':2,'informational':3},inplace = True)"
   ]
  },
  {
   "cell_type": "code",
   "execution_count": 29,
   "metadata": {},
   "outputs": [
    {
     "data": {
      "text/plain": [
       "(148805, 15)"
      ]
     },
     "execution_count": 29,
     "metadata": {},
     "output_type": "execute_result"
    }
   ],
   "source": [
    "# provide training data set for simply drop NA feature\n",
    "feature_drop = feature_ori.copy()\n",
    "feature_drop = feature_drop.fillna(0)\n",
    "feature_drop = feature_drop[feature_drop['gender']!=0]\n",
    "feature_drop = feature_drop[feature_drop['income']!=0]\n",
    "feature_drop.head()\n",
    "feature_drop.shape"
   ]
  },
  {
   "cell_type": "markdown",
   "metadata": {},
   "source": [
    "### Training the Model with simple drop method"
   ]
  },
  {
   "cell_type": "code",
   "execution_count": 30,
   "metadata": {},
   "outputs": [],
   "source": [
    "# Training the droped data set\n",
    "from sklearn.model_selection import train_test_split, GridSearchCV\n",
    "from sklearn.naive_bayes import GaussianNB\n",
    "target_drop = feature_drop.event\n",
    "feature_drop.drop('event',axis=1,inplace = True)"
   ]
  },
  {
   "cell_type": "code",
   "execution_count": 31,
   "metadata": {},
   "outputs": [],
   "source": [
    "# Build functions to evaluate the model\n",
    "from sklearn.metrics import classification_report\n",
    "def evaluate_model(model,X_test, y_test):\n",
    "    '''\n",
    "    Evaluation report of the model, and print the F1 scores\n",
    "    INPUT: model, x_test and y_test\n",
    "    OUPUT: evaluation report in text files \n",
    "    '''\n",
    "    y_predict = model.predict(X_test)\n",
    "    print(classification_report(y_test, y_predict))"
   ]
  },
  {
   "cell_type": "code",
   "execution_count": 32,
   "metadata": {},
   "outputs": [
    {
     "name": "stdout",
     "output_type": "stream",
     "text": [
      "              precision    recall  f1-score   support\n",
      "\n",
      "           0       0.61      0.69      0.65     22141\n",
      "           1       0.49      0.41      0.44     16227\n",
      "           2       1.00      1.00      1.00     10738\n",
      "\n",
      "    accuracy                           0.66     49106\n",
      "   macro avg       0.70      0.70      0.70     49106\n",
      "weighted avg       0.66      0.66      0.66     49106\n",
      "\n"
     ]
    }
   ],
   "source": [
    "X_train, X_test, y_train, y_test = train_test_split(feature_drop,target_drop,test_size = 0.33, random_state=0)\n",
    "gnb = GaussianNB() \n",
    "gnb.fit(X_train, y_train) \n",
    "evaluate_model(gnb,X_test, y_test)"
   ]
  },
  {
   "cell_type": "markdown",
   "metadata": {},
   "source": [
    "### Training the Model with implentation method"
   ]
  },
  {
   "cell_type": "code",
   "execution_count": 33,
   "metadata": {},
   "outputs": [
    {
     "name": "stderr",
     "output_type": "stream",
     "text": [
      "/opt/anaconda3/lib/python3.7/site-packages/pandas/core/ops/array_ops.py:253: FutureWarning: elementwise comparison failed; returning scalar instead, but in the future will perform elementwise comparison\n",
      "  res_values = method(rvalues)\n"
     ]
    }
   ],
   "source": [
    "# provide training data set for average implantation feature\n",
    "feature_imp = feature_ori.copy()\n",
    "feature_imp = feature_imp.fillna('0')\n",
    "feature_imp = feature_imp[feature_imp['event'] != 'transaction']\n",
    "feature_imp.income.astype(int)\n",
    "feature_imp.income.replace(to_replace = {0:65400},inplace = True)\n",
    "feature_imp.age.replace(to_replace = {118:47},inplace = True)"
   ]
  },
  {
   "cell_type": "code",
   "execution_count": 34,
   "metadata": {},
   "outputs": [],
   "source": [
    "# Training the implentation data set\n",
    "target_imp = feature_imp.event\n",
    "feature_imp.drop('event',axis=1,inplace = True)"
   ]
  },
  {
   "cell_type": "code",
   "execution_count": 35,
   "metadata": {},
   "outputs": [
    {
     "name": "stdout",
     "output_type": "stream",
     "text": [
      "              precision    recall  f1-score   support\n",
      "\n",
      "           0       0.59      0.75      0.66     25354\n",
      "           1       0.49      0.33      0.39     18854\n",
      "           2       1.00      0.97      0.99     11094\n",
      "\n",
      "    accuracy                           0.65     55302\n",
      "   macro avg       0.69      0.68      0.68     55302\n",
      "weighted avg       0.64      0.65      0.63     55302\n",
      "\n"
     ]
    }
   ],
   "source": [
    "X_train, X_test, y_train, y_test = train_test_split(feature_imp,target_imp,test_size = 0.33, random_state=0)\n",
    "gnb = GaussianNB() \n",
    "gnb.fit(X_train, y_train) \n",
    "evaluate_model(gnb,X_test, y_test)"
   ]
  },
  {
   "cell_type": "markdown",
   "metadata": {},
   "source": [
    "### Result comparison\n",
    "The F1 score for simply drop method is 0.66 while for implentation is 0.65. Surprisingly the implentation method doesn't improve the accuracy of the model, for those data simplily drop them could be the case"
   ]
  },
  {
   "cell_type": "markdown",
   "metadata": {},
   "source": [
    "### Training the Model with less variables"
   ]
  },
  {
   "cell_type": "markdown",
   "metadata": {},
   "source": [
    "Not all the variables provide useful information for the model, let's see if we can drop those unrelated variable to simplify the model"
   ]
  },
  {
   "cell_type": "code",
   "execution_count": 38,
   "metadata": {},
   "outputs": [],
   "source": [
    "feature_drop.drop('time',axis = 1,inplace = True)\n",
    "feature_drop.drop('duration',axis = 1,inplace = True)"
   ]
  },
  {
   "cell_type": "code",
   "execution_count": 40,
   "metadata": {},
   "outputs": [
    {
     "name": "stdout",
     "output_type": "stream",
     "text": [
      "              precision    recall  f1-score   support\n",
      "\n",
      "           0       0.60      0.71      0.65     22141\n",
      "           1       0.48      0.36      0.41     16227\n",
      "           2       1.00      1.00      1.00     10738\n",
      "\n",
      "    accuracy                           0.66     49106\n",
      "   macro avg       0.69      0.69      0.69     49106\n",
      "weighted avg       0.65      0.66      0.65     49106\n",
      "\n"
     ]
    }
   ],
   "source": [
    "X_train, X_test, y_train, y_test = train_test_split(feature_drop,target,test_size = 0.33, random_state=0)\n",
    "gnb = GaussianNB() \n",
    "gnb.fit(X_train, y_train) \n",
    "evaluate_model(gnb,X_test, y_test)"
   ]
  },
  {
   "cell_type": "markdown",
   "metadata": {},
   "source": [
    "### Discussion\n",
    "if we drop the time and duration variable, the f1 score for the model doesn't change which indicates, those values are not to relevent in prediction the the user response"
   ]
  },
  {
   "cell_type": "code",
   "execution_count": null,
   "metadata": {},
   "outputs": [],
   "source": []
  }
 ],
 "metadata": {
  "kernelspec": {
   "display_name": "Python 3",
   "language": "python",
   "name": "python3"
  },
  "language_info": {
   "codemirror_mode": {
    "name": "ipython",
    "version": 3
   },
   "file_extension": ".py",
   "mimetype": "text/x-python",
   "name": "python",
   "nbconvert_exporter": "python",
   "pygments_lexer": "ipython3",
   "version": "3.7.6"
  }
 },
 "nbformat": 4,
 "nbformat_minor": 2
}
